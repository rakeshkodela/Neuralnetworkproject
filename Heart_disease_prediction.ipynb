{
  "cells": [
    {
      "cell_type": "markdown",
      "metadata": {
        "_uuid": "bbd660b62cc616efa33651beedc49b86045b784d",
        "id": "NltDwoumlxvk"
      },
      "source": [
        "## <font size=5> <strong>Heart Disease Prediction and Identification with Artificial Intelligence \n",
        " "
      ]
    },
    {
      "cell_type": "markdown",
      "metadata": {
        "_uuid": "e41ea25bec5928203cec544d0413fecd4b4e5555",
        "id": "v5K1OV6Xlxvo"
      },
      "source": [
        "## I. Importing essential libraries"
      ]
    },
    {
      "cell_type": "code",
      "source": [],
      "metadata": {
        "id": "j8ouLzQ5mCo-"
      },
      "execution_count": null,
      "outputs": []
    },
    {
      "cell_type": "code",
      "execution_count": null,
      "metadata": {
        "_uuid": "f571f7e57c828d45fe55f6136fe8c2e796f74d4e",
        "colab": {
          "base_uri": "https://localhost:8080/"
        },
        "id": "Ids8cqlPlxvp",
        "outputId": "73360794-3c82-4b86-918f-db7b9e2d0fa3"
      },
      "outputs": [
        {
          "output_type": "stream",
          "name": "stdout",
          "text": [
            "['.config', 'sample_data']\n"
          ]
        }
      ],
      "source": [
        "import numpy as np\n",
        "import pandas as pd\n",
        "import matplotlib.pyplot as plt\n",
        "import seaborn as sns\n",
        "\n",
        "%matplotlib inline\n",
        "\n",
        "import os\n",
        "print(os.listdir())\n",
        "\n",
        "import warnings\n",
        "warnings.filterwarnings('ignore')"
      ]
    },
    {
      "cell_type": "markdown",
      "metadata": {
        "_uuid": "44e71221837f6fa60edc2c83b7492ddb019cc1cd",
        "id": "pF-8G9Felxvr"
      },
      "source": [
        "## II. Importing the  dataset "
      ]
    },
    {
      "cell_type": "code",
      "execution_count": null,
      "metadata": {
        "_uuid": "2a1a1dae64ae3c934849b2b918bc7d68cd59e3f6",
        "colab": {
          "base_uri": "https://localhost:8080/"
        },
        "id": "pvOE16kalxvs",
        "outputId": "5d972c37-922f-42d7-dbeb-fa6dbe1ec4e2"
      },
      "outputs": [
        {
          "output_type": "stream",
          "name": "stdout",
          "text": [
            "Mounted at /content/drive\n"
          ]
        }
      ],
      "source": [
        "#1.Collecting the data\n",
        "from google.colab import drive\n",
        "drive.mount('/content/drive')\n",
        "\n",
        "dataset = pd.read_csv('/content/drive/My Drive/Colab Notebooks/Heart_Disease_AI/heart.csv',encoding='ISO-8859-1')"
      ]
    },
    {
      "cell_type": "markdown",
      "metadata": {
        "_uuid": "481fa1d160a3256ef2470535bfb0574820fbaabd",
        "id": "ThGSZ--5lxvv"
      },
      "source": [
        "#### Verifying it as a 'dataframe' object in pandas"
      ]
    },
    {
      "cell_type": "code",
      "execution_count": null,
      "metadata": {
        "_uuid": "86353d54a331dbf55a63874402cf13e2a72c3750",
        "colab": {
          "base_uri": "https://localhost:8080/"
        },
        "id": "2nAmdLlHlxvv",
        "outputId": "4568fd01-ad67-441c-8ca6-06448974c46d"
      },
      "outputs": [
        {
          "output_type": "execute_result",
          "data": {
            "text/plain": [
              "pandas.core.frame.DataFrame"
            ]
          },
          "metadata": {},
          "execution_count": 3
        }
      ],
      "source": [
        "type(dataset)"
      ]
    },
    {
      "cell_type": "markdown",
      "metadata": {
        "_uuid": "44649a50ce58d2e10a032f7d0e7ecf435e932481",
        "id": "DGVu2rIslxvw"
      },
      "source": [
        "#### Shape of dataset"
      ]
    },
    {
      "cell_type": "code",
      "execution_count": null,
      "metadata": {
        "_uuid": "0a2396061d262bee451e61dd51be84d0bd1ac9d0",
        "colab": {
          "base_uri": "https://localhost:8080/"
        },
        "id": "tr6wxV1hlxvw",
        "outputId": "3d863e80-2efb-4a6a-ea9d-ae12ed61c194"
      },
      "outputs": [
        {
          "output_type": "execute_result",
          "data": {
            "text/plain": [
              "(303, 14)"
            ]
          },
          "metadata": {},
          "execution_count": 4
        }
      ],
      "source": [
        "dataset.shape"
      ]
    },
    {
      "cell_type": "markdown",
      "metadata": {
        "_uuid": "3e1de0c39fc28f086a5e8377cc5fbdbf91d377b3",
        "id": "g60cHJanlxvx"
      },
      "source": [
        "#### Printing out a few columns"
      ]
    },
    {
      "cell_type": "code",
      "execution_count": null,
      "metadata": {
        "_uuid": "87ebcc578e5959fe9a9c9a538c73122183454459",
        "colab": {
          "base_uri": "https://localhost:8080/",
          "height": 206
        },
        "id": "1vzez9Yulxvx",
        "outputId": "85767cc1-9505-4c6a-fff2-57e215402c8c"
      },
      "outputs": [
        {
          "output_type": "execute_result",
          "data": {
            "text/plain": [
              "   ï»¿age  sex  cp  trestbps  chol  fbs  restecg  thalach  exang  oldpeak  \\\n",
              "0      63    1   3       145   233    1        0      150      0      2.3   \n",
              "1      37    1   2       130   250    0        1      187      0      3.5   \n",
              "2      41    0   1       130   204    0        0      172      0      1.4   \n",
              "3      56    1   1       120   236    0        1      178      0      0.8   \n",
              "4      57    0   0       120   354    0        1      163      1      0.6   \n",
              "\n",
              "   slope  ca  thal  target  \n",
              "0      0   0     1       1  \n",
              "1      0   0     2       1  \n",
              "2      2   0     2       1  \n",
              "3      2   0     2       1  \n",
              "4      2   0     2       1  "
            ],
            "text/html": [
              "\n",
              "  <div id=\"df-f418890f-f4f6-4182-914d-44d2a5076ea0\">\n",
              "    <div class=\"colab-df-container\">\n",
              "      <div>\n",
              "<style scoped>\n",
              "    .dataframe tbody tr th:only-of-type {\n",
              "        vertical-align: middle;\n",
              "    }\n",
              "\n",
              "    .dataframe tbody tr th {\n",
              "        vertical-align: top;\n",
              "    }\n",
              "\n",
              "    .dataframe thead th {\n",
              "        text-align: right;\n",
              "    }\n",
              "</style>\n",
              "<table border=\"1\" class=\"dataframe\">\n",
              "  <thead>\n",
              "    <tr style=\"text-align: right;\">\n",
              "      <th></th>\n",
              "      <th>ï»¿age</th>\n",
              "      <th>sex</th>\n",
              "      <th>cp</th>\n",
              "      <th>trestbps</th>\n",
              "      <th>chol</th>\n",
              "      <th>fbs</th>\n",
              "      <th>restecg</th>\n",
              "      <th>thalach</th>\n",
              "      <th>exang</th>\n",
              "      <th>oldpeak</th>\n",
              "      <th>slope</th>\n",
              "      <th>ca</th>\n",
              "      <th>thal</th>\n",
              "      <th>target</th>\n",
              "    </tr>\n",
              "  </thead>\n",
              "  <tbody>\n",
              "    <tr>\n",
              "      <th>0</th>\n",
              "      <td>63</td>\n",
              "      <td>1</td>\n",
              "      <td>3</td>\n",
              "      <td>145</td>\n",
              "      <td>233</td>\n",
              "      <td>1</td>\n",
              "      <td>0</td>\n",
              "      <td>150</td>\n",
              "      <td>0</td>\n",
              "      <td>2.3</td>\n",
              "      <td>0</td>\n",
              "      <td>0</td>\n",
              "      <td>1</td>\n",
              "      <td>1</td>\n",
              "    </tr>\n",
              "    <tr>\n",
              "      <th>1</th>\n",
              "      <td>37</td>\n",
              "      <td>1</td>\n",
              "      <td>2</td>\n",
              "      <td>130</td>\n",
              "      <td>250</td>\n",
              "      <td>0</td>\n",
              "      <td>1</td>\n",
              "      <td>187</td>\n",
              "      <td>0</td>\n",
              "      <td>3.5</td>\n",
              "      <td>0</td>\n",
              "      <td>0</td>\n",
              "      <td>2</td>\n",
              "      <td>1</td>\n",
              "    </tr>\n",
              "    <tr>\n",
              "      <th>2</th>\n",
              "      <td>41</td>\n",
              "      <td>0</td>\n",
              "      <td>1</td>\n",
              "      <td>130</td>\n",
              "      <td>204</td>\n",
              "      <td>0</td>\n",
              "      <td>0</td>\n",
              "      <td>172</td>\n",
              "      <td>0</td>\n",
              "      <td>1.4</td>\n",
              "      <td>2</td>\n",
              "      <td>0</td>\n",
              "      <td>2</td>\n",
              "      <td>1</td>\n",
              "    </tr>\n",
              "    <tr>\n",
              "      <th>3</th>\n",
              "      <td>56</td>\n",
              "      <td>1</td>\n",
              "      <td>1</td>\n",
              "      <td>120</td>\n",
              "      <td>236</td>\n",
              "      <td>0</td>\n",
              "      <td>1</td>\n",
              "      <td>178</td>\n",
              "      <td>0</td>\n",
              "      <td>0.8</td>\n",
              "      <td>2</td>\n",
              "      <td>0</td>\n",
              "      <td>2</td>\n",
              "      <td>1</td>\n",
              "    </tr>\n",
              "    <tr>\n",
              "      <th>4</th>\n",
              "      <td>57</td>\n",
              "      <td>0</td>\n",
              "      <td>0</td>\n",
              "      <td>120</td>\n",
              "      <td>354</td>\n",
              "      <td>0</td>\n",
              "      <td>1</td>\n",
              "      <td>163</td>\n",
              "      <td>1</td>\n",
              "      <td>0.6</td>\n",
              "      <td>2</td>\n",
              "      <td>0</td>\n",
              "      <td>2</td>\n",
              "      <td>1</td>\n",
              "    </tr>\n",
              "  </tbody>\n",
              "</table>\n",
              "</div>\n",
              "      <button class=\"colab-df-convert\" onclick=\"convertToInteractive('df-f418890f-f4f6-4182-914d-44d2a5076ea0')\"\n",
              "              title=\"Convert this dataframe to an interactive table.\"\n",
              "              style=\"display:none;\">\n",
              "        \n",
              "  <svg xmlns=\"http://www.w3.org/2000/svg\" height=\"24px\"viewBox=\"0 0 24 24\"\n",
              "       width=\"24px\">\n",
              "    <path d=\"M0 0h24v24H0V0z\" fill=\"none\"/>\n",
              "    <path d=\"M18.56 5.44l.94 2.06.94-2.06 2.06-.94-2.06-.94-.94-2.06-.94 2.06-2.06.94zm-11 1L8.5 8.5l.94-2.06 2.06-.94-2.06-.94L8.5 2.5l-.94 2.06-2.06.94zm10 10l.94 2.06.94-2.06 2.06-.94-2.06-.94-.94-2.06-.94 2.06-2.06.94z\"/><path d=\"M17.41 7.96l-1.37-1.37c-.4-.4-.92-.59-1.43-.59-.52 0-1.04.2-1.43.59L10.3 9.45l-7.72 7.72c-.78.78-.78 2.05 0 2.83L4 21.41c.39.39.9.59 1.41.59.51 0 1.02-.2 1.41-.59l7.78-7.78 2.81-2.81c.8-.78.8-2.07 0-2.86zM5.41 20L4 18.59l7.72-7.72 1.47 1.35L5.41 20z\"/>\n",
              "  </svg>\n",
              "      </button>\n",
              "      \n",
              "  <style>\n",
              "    .colab-df-container {\n",
              "      display:flex;\n",
              "      flex-wrap:wrap;\n",
              "      gap: 12px;\n",
              "    }\n",
              "\n",
              "    .colab-df-convert {\n",
              "      background-color: #E8F0FE;\n",
              "      border: none;\n",
              "      border-radius: 50%;\n",
              "      cursor: pointer;\n",
              "      display: none;\n",
              "      fill: #1967D2;\n",
              "      height: 32px;\n",
              "      padding: 0 0 0 0;\n",
              "      width: 32px;\n",
              "    }\n",
              "\n",
              "    .colab-df-convert:hover {\n",
              "      background-color: #E2EBFA;\n",
              "      box-shadow: 0px 1px 2px rgba(60, 64, 67, 0.3), 0px 1px 3px 1px rgba(60, 64, 67, 0.15);\n",
              "      fill: #174EA6;\n",
              "    }\n",
              "\n",
              "    [theme=dark] .colab-df-convert {\n",
              "      background-color: #3B4455;\n",
              "      fill: #D2E3FC;\n",
              "    }\n",
              "\n",
              "    [theme=dark] .colab-df-convert:hover {\n",
              "      background-color: #434B5C;\n",
              "      box-shadow: 0px 1px 3px 1px rgba(0, 0, 0, 0.15);\n",
              "      filter: drop-shadow(0px 1px 2px rgba(0, 0, 0, 0.3));\n",
              "      fill: #FFFFFF;\n",
              "    }\n",
              "  </style>\n",
              "\n",
              "      <script>\n",
              "        const buttonEl =\n",
              "          document.querySelector('#df-f418890f-f4f6-4182-914d-44d2a5076ea0 button.colab-df-convert');\n",
              "        buttonEl.style.display =\n",
              "          google.colab.kernel.accessAllowed ? 'block' : 'none';\n",
              "\n",
              "        async function convertToInteractive(key) {\n",
              "          const element = document.querySelector('#df-f418890f-f4f6-4182-914d-44d2a5076ea0');\n",
              "          const dataTable =\n",
              "            await google.colab.kernel.invokeFunction('convertToInteractive',\n",
              "                                                     [key], {});\n",
              "          if (!dataTable) return;\n",
              "\n",
              "          const docLinkHtml = 'Like what you see? Visit the ' +\n",
              "            '<a target=\"_blank\" href=https://colab.research.google.com/notebooks/data_table.ipynb>data table notebook</a>'\n",
              "            + ' to learn more about interactive tables.';\n",
              "          element.innerHTML = '';\n",
              "          dataTable['output_type'] = 'display_data';\n",
              "          await google.colab.output.renderOutput(dataTable, element);\n",
              "          const docLink = document.createElement('div');\n",
              "          docLink.innerHTML = docLinkHtml;\n",
              "          element.appendChild(docLink);\n",
              "        }\n",
              "      </script>\n",
              "    </div>\n",
              "  </div>\n",
              "  "
            ]
          },
          "metadata": {},
          "execution_count": 5
        }
      ],
      "source": [
        "dataset.head(5)"
      ]
    },
    {
      "cell_type": "code",
      "execution_count": null,
      "metadata": {
        "_uuid": "5132eb43114bf99d5f857f459d0c9d2faffc9644",
        "colab": {
          "base_uri": "https://localhost:8080/",
          "height": 206
        },
        "id": "Jy7ENkdLlxvx",
        "outputId": "4576cdb2-ca06-45a1-fdc2-b79ad6a41304"
      },
      "outputs": [
        {
          "output_type": "execute_result",
          "data": {
            "text/plain": [
              "     ï»¿age  sex  cp  trestbps  chol  fbs  restecg  thalach  exang  oldpeak  \\\n",
              "185      44    1   0       112   290    0        0      153      0      0.0   \n",
              "249      69    1   2       140   254    0        0      146      0      2.0   \n",
              "24       40    1   3       140   199    0        1      178      1      1.4   \n",
              "3        56    1   1       120   236    0        1      178      0      0.8   \n",
              "207      60    0   0       150   258    0        0      157      0      2.6   \n",
              "\n",
              "     slope  ca  thal  target  \n",
              "185      2   1     2       0  \n",
              "249      1   3     3       0  \n",
              "24       2   0     3       1  \n",
              "3        2   0     2       1  \n",
              "207      1   2     3       0  "
            ],
            "text/html": [
              "\n",
              "  <div id=\"df-59778796-12fd-4a67-99c1-9aa54f20c49a\">\n",
              "    <div class=\"colab-df-container\">\n",
              "      <div>\n",
              "<style scoped>\n",
              "    .dataframe tbody tr th:only-of-type {\n",
              "        vertical-align: middle;\n",
              "    }\n",
              "\n",
              "    .dataframe tbody tr th {\n",
              "        vertical-align: top;\n",
              "    }\n",
              "\n",
              "    .dataframe thead th {\n",
              "        text-align: right;\n",
              "    }\n",
              "</style>\n",
              "<table border=\"1\" class=\"dataframe\">\n",
              "  <thead>\n",
              "    <tr style=\"text-align: right;\">\n",
              "      <th></th>\n",
              "      <th>ï»¿age</th>\n",
              "      <th>sex</th>\n",
              "      <th>cp</th>\n",
              "      <th>trestbps</th>\n",
              "      <th>chol</th>\n",
              "      <th>fbs</th>\n",
              "      <th>restecg</th>\n",
              "      <th>thalach</th>\n",
              "      <th>exang</th>\n",
              "      <th>oldpeak</th>\n",
              "      <th>slope</th>\n",
              "      <th>ca</th>\n",
              "      <th>thal</th>\n",
              "      <th>target</th>\n",
              "    </tr>\n",
              "  </thead>\n",
              "  <tbody>\n",
              "    <tr>\n",
              "      <th>185</th>\n",
              "      <td>44</td>\n",
              "      <td>1</td>\n",
              "      <td>0</td>\n",
              "      <td>112</td>\n",
              "      <td>290</td>\n",
              "      <td>0</td>\n",
              "      <td>0</td>\n",
              "      <td>153</td>\n",
              "      <td>0</td>\n",
              "      <td>0.0</td>\n",
              "      <td>2</td>\n",
              "      <td>1</td>\n",
              "      <td>2</td>\n",
              "      <td>0</td>\n",
              "    </tr>\n",
              "    <tr>\n",
              "      <th>249</th>\n",
              "      <td>69</td>\n",
              "      <td>1</td>\n",
              "      <td>2</td>\n",
              "      <td>140</td>\n",
              "      <td>254</td>\n",
              "      <td>0</td>\n",
              "      <td>0</td>\n",
              "      <td>146</td>\n",
              "      <td>0</td>\n",
              "      <td>2.0</td>\n",
              "      <td>1</td>\n",
              "      <td>3</td>\n",
              "      <td>3</td>\n",
              "      <td>0</td>\n",
              "    </tr>\n",
              "    <tr>\n",
              "      <th>24</th>\n",
              "      <td>40</td>\n",
              "      <td>1</td>\n",
              "      <td>3</td>\n",
              "      <td>140</td>\n",
              "      <td>199</td>\n",
              "      <td>0</td>\n",
              "      <td>1</td>\n",
              "      <td>178</td>\n",
              "      <td>1</td>\n",
              "      <td>1.4</td>\n",
              "      <td>2</td>\n",
              "      <td>0</td>\n",
              "      <td>3</td>\n",
              "      <td>1</td>\n",
              "    </tr>\n",
              "    <tr>\n",
              "      <th>3</th>\n",
              "      <td>56</td>\n",
              "      <td>1</td>\n",
              "      <td>1</td>\n",
              "      <td>120</td>\n",
              "      <td>236</td>\n",
              "      <td>0</td>\n",
              "      <td>1</td>\n",
              "      <td>178</td>\n",
              "      <td>0</td>\n",
              "      <td>0.8</td>\n",
              "      <td>2</td>\n",
              "      <td>0</td>\n",
              "      <td>2</td>\n",
              "      <td>1</td>\n",
              "    </tr>\n",
              "    <tr>\n",
              "      <th>207</th>\n",
              "      <td>60</td>\n",
              "      <td>0</td>\n",
              "      <td>0</td>\n",
              "      <td>150</td>\n",
              "      <td>258</td>\n",
              "      <td>0</td>\n",
              "      <td>0</td>\n",
              "      <td>157</td>\n",
              "      <td>0</td>\n",
              "      <td>2.6</td>\n",
              "      <td>1</td>\n",
              "      <td>2</td>\n",
              "      <td>3</td>\n",
              "      <td>0</td>\n",
              "    </tr>\n",
              "  </tbody>\n",
              "</table>\n",
              "</div>\n",
              "      <button class=\"colab-df-convert\" onclick=\"convertToInteractive('df-59778796-12fd-4a67-99c1-9aa54f20c49a')\"\n",
              "              title=\"Convert this dataframe to an interactive table.\"\n",
              "              style=\"display:none;\">\n",
              "        \n",
              "  <svg xmlns=\"http://www.w3.org/2000/svg\" height=\"24px\"viewBox=\"0 0 24 24\"\n",
              "       width=\"24px\">\n",
              "    <path d=\"M0 0h24v24H0V0z\" fill=\"none\"/>\n",
              "    <path d=\"M18.56 5.44l.94 2.06.94-2.06 2.06-.94-2.06-.94-.94-2.06-.94 2.06-2.06.94zm-11 1L8.5 8.5l.94-2.06 2.06-.94-2.06-.94L8.5 2.5l-.94 2.06-2.06.94zm10 10l.94 2.06.94-2.06 2.06-.94-2.06-.94-.94-2.06-.94 2.06-2.06.94z\"/><path d=\"M17.41 7.96l-1.37-1.37c-.4-.4-.92-.59-1.43-.59-.52 0-1.04.2-1.43.59L10.3 9.45l-7.72 7.72c-.78.78-.78 2.05 0 2.83L4 21.41c.39.39.9.59 1.41.59.51 0 1.02-.2 1.41-.59l7.78-7.78 2.81-2.81c.8-.78.8-2.07 0-2.86zM5.41 20L4 18.59l7.72-7.72 1.47 1.35L5.41 20z\"/>\n",
              "  </svg>\n",
              "      </button>\n",
              "      \n",
              "  <style>\n",
              "    .colab-df-container {\n",
              "      display:flex;\n",
              "      flex-wrap:wrap;\n",
              "      gap: 12px;\n",
              "    }\n",
              "\n",
              "    .colab-df-convert {\n",
              "      background-color: #E8F0FE;\n",
              "      border: none;\n",
              "      border-radius: 50%;\n",
              "      cursor: pointer;\n",
              "      display: none;\n",
              "      fill: #1967D2;\n",
              "      height: 32px;\n",
              "      padding: 0 0 0 0;\n",
              "      width: 32px;\n",
              "    }\n",
              "\n",
              "    .colab-df-convert:hover {\n",
              "      background-color: #E2EBFA;\n",
              "      box-shadow: 0px 1px 2px rgba(60, 64, 67, 0.3), 0px 1px 3px 1px rgba(60, 64, 67, 0.15);\n",
              "      fill: #174EA6;\n",
              "    }\n",
              "\n",
              "    [theme=dark] .colab-df-convert {\n",
              "      background-color: #3B4455;\n",
              "      fill: #D2E3FC;\n",
              "    }\n",
              "\n",
              "    [theme=dark] .colab-df-convert:hover {\n",
              "      background-color: #434B5C;\n",
              "      box-shadow: 0px 1px 3px 1px rgba(0, 0, 0, 0.15);\n",
              "      filter: drop-shadow(0px 1px 2px rgba(0, 0, 0, 0.3));\n",
              "      fill: #FFFFFF;\n",
              "    }\n",
              "  </style>\n",
              "\n",
              "      <script>\n",
              "        const buttonEl =\n",
              "          document.querySelector('#df-59778796-12fd-4a67-99c1-9aa54f20c49a button.colab-df-convert');\n",
              "        buttonEl.style.display =\n",
              "          google.colab.kernel.accessAllowed ? 'block' : 'none';\n",
              "\n",
              "        async function convertToInteractive(key) {\n",
              "          const element = document.querySelector('#df-59778796-12fd-4a67-99c1-9aa54f20c49a');\n",
              "          const dataTable =\n",
              "            await google.colab.kernel.invokeFunction('convertToInteractive',\n",
              "                                                     [key], {});\n",
              "          if (!dataTable) return;\n",
              "\n",
              "          const docLinkHtml = 'Like what you see? Visit the ' +\n",
              "            '<a target=\"_blank\" href=https://colab.research.google.com/notebooks/data_table.ipynb>data table notebook</a>'\n",
              "            + ' to learn more about interactive tables.';\n",
              "          element.innerHTML = '';\n",
              "          dataTable['output_type'] = 'display_data';\n",
              "          await google.colab.output.renderOutput(dataTable, element);\n",
              "          const docLink = document.createElement('div');\n",
              "          docLink.innerHTML = docLinkHtml;\n",
              "          element.appendChild(docLink);\n",
              "        }\n",
              "      </script>\n",
              "    </div>\n",
              "  </div>\n",
              "  "
            ]
          },
          "metadata": {},
          "execution_count": 6
        }
      ],
      "source": [
        "dataset.sample(5)"
      ]
    },
    {
      "cell_type": "markdown",
      "metadata": {
        "_uuid": "1113236bec2848d33c5bfe088ff0d03246b8b7ce",
        "id": "XtZU-AqYlxvy"
      },
      "source": [
        "#### Description"
      ]
    },
    {
      "cell_type": "code",
      "execution_count": null,
      "metadata": {
        "_uuid": "c31619815cb0dae5586985671fdc21110b39a821",
        "colab": {
          "base_uri": "https://localhost:8080/",
          "height": 364
        },
        "id": "lEqHY9-Jlxvy",
        "outputId": "8d6fedd0-5e20-4960-9fce-de280b95b3b0"
      },
      "outputs": [
        {
          "output_type": "execute_result",
          "data": {
            "text/plain": [
              "           ï»¿age         sex          cp    trestbps        chol         fbs  \\\n",
              "count  303.000000  303.000000  303.000000  303.000000  303.000000  303.000000   \n",
              "mean    54.366337    0.683168    0.966997  131.623762  246.264026    0.148515   \n",
              "std      9.082101    0.466011    1.032052   17.538143   51.830751    0.356198   \n",
              "min     29.000000    0.000000    0.000000   94.000000  126.000000    0.000000   \n",
              "25%     47.500000    0.000000    0.000000  120.000000  211.000000    0.000000   \n",
              "50%     55.000000    1.000000    1.000000  130.000000  240.000000    0.000000   \n",
              "75%     61.000000    1.000000    2.000000  140.000000  274.500000    0.000000   \n",
              "max     77.000000    1.000000    3.000000  200.000000  564.000000    1.000000   \n",
              "\n",
              "          restecg     thalach       exang     oldpeak       slope          ca  \\\n",
              "count  303.000000  303.000000  303.000000  303.000000  303.000000  303.000000   \n",
              "mean     0.528053  149.646865    0.326733    1.039604    1.399340    0.729373   \n",
              "std      0.525860   22.905161    0.469794    1.161075    0.616226    1.022606   \n",
              "min      0.000000   71.000000    0.000000    0.000000    0.000000    0.000000   \n",
              "25%      0.000000  133.500000    0.000000    0.000000    1.000000    0.000000   \n",
              "50%      1.000000  153.000000    0.000000    0.800000    1.000000    0.000000   \n",
              "75%      1.000000  166.000000    1.000000    1.600000    2.000000    1.000000   \n",
              "max      2.000000  202.000000    1.000000    6.200000    2.000000    4.000000   \n",
              "\n",
              "             thal      target  \n",
              "count  303.000000  303.000000  \n",
              "mean     2.313531    0.544554  \n",
              "std      0.612277    0.498835  \n",
              "min      0.000000    0.000000  \n",
              "25%      2.000000    0.000000  \n",
              "50%      2.000000    1.000000  \n",
              "75%      3.000000    1.000000  \n",
              "max      3.000000    1.000000  "
            ],
            "text/html": [
              "\n",
              "  <div id=\"df-72970fb5-a443-4f12-90a9-17aabdfcac13\">\n",
              "    <div class=\"colab-df-container\">\n",
              "      <div>\n",
              "<style scoped>\n",
              "    .dataframe tbody tr th:only-of-type {\n",
              "        vertical-align: middle;\n",
              "    }\n",
              "\n",
              "    .dataframe tbody tr th {\n",
              "        vertical-align: top;\n",
              "    }\n",
              "\n",
              "    .dataframe thead th {\n",
              "        text-align: right;\n",
              "    }\n",
              "</style>\n",
              "<table border=\"1\" class=\"dataframe\">\n",
              "  <thead>\n",
              "    <tr style=\"text-align: right;\">\n",
              "      <th></th>\n",
              "      <th>ï»¿age</th>\n",
              "      <th>sex</th>\n",
              "      <th>cp</th>\n",
              "      <th>trestbps</th>\n",
              "      <th>chol</th>\n",
              "      <th>fbs</th>\n",
              "      <th>restecg</th>\n",
              "      <th>thalach</th>\n",
              "      <th>exang</th>\n",
              "      <th>oldpeak</th>\n",
              "      <th>slope</th>\n",
              "      <th>ca</th>\n",
              "      <th>thal</th>\n",
              "      <th>target</th>\n",
              "    </tr>\n",
              "  </thead>\n",
              "  <tbody>\n",
              "    <tr>\n",
              "      <th>count</th>\n",
              "      <td>303.000000</td>\n",
              "      <td>303.000000</td>\n",
              "      <td>303.000000</td>\n",
              "      <td>303.000000</td>\n",
              "      <td>303.000000</td>\n",
              "      <td>303.000000</td>\n",
              "      <td>303.000000</td>\n",
              "      <td>303.000000</td>\n",
              "      <td>303.000000</td>\n",
              "      <td>303.000000</td>\n",
              "      <td>303.000000</td>\n",
              "      <td>303.000000</td>\n",
              "      <td>303.000000</td>\n",
              "      <td>303.000000</td>\n",
              "    </tr>\n",
              "    <tr>\n",
              "      <th>mean</th>\n",
              "      <td>54.366337</td>\n",
              "      <td>0.683168</td>\n",
              "      <td>0.966997</td>\n",
              "      <td>131.623762</td>\n",
              "      <td>246.264026</td>\n",
              "      <td>0.148515</td>\n",
              "      <td>0.528053</td>\n",
              "      <td>149.646865</td>\n",
              "      <td>0.326733</td>\n",
              "      <td>1.039604</td>\n",
              "      <td>1.399340</td>\n",
              "      <td>0.729373</td>\n",
              "      <td>2.313531</td>\n",
              "      <td>0.544554</td>\n",
              "    </tr>\n",
              "    <tr>\n",
              "      <th>std</th>\n",
              "      <td>9.082101</td>\n",
              "      <td>0.466011</td>\n",
              "      <td>1.032052</td>\n",
              "      <td>17.538143</td>\n",
              "      <td>51.830751</td>\n",
              "      <td>0.356198</td>\n",
              "      <td>0.525860</td>\n",
              "      <td>22.905161</td>\n",
              "      <td>0.469794</td>\n",
              "      <td>1.161075</td>\n",
              "      <td>0.616226</td>\n",
              "      <td>1.022606</td>\n",
              "      <td>0.612277</td>\n",
              "      <td>0.498835</td>\n",
              "    </tr>\n",
              "    <tr>\n",
              "      <th>min</th>\n",
              "      <td>29.000000</td>\n",
              "      <td>0.000000</td>\n",
              "      <td>0.000000</td>\n",
              "      <td>94.000000</td>\n",
              "      <td>126.000000</td>\n",
              "      <td>0.000000</td>\n",
              "      <td>0.000000</td>\n",
              "      <td>71.000000</td>\n",
              "      <td>0.000000</td>\n",
              "      <td>0.000000</td>\n",
              "      <td>0.000000</td>\n",
              "      <td>0.000000</td>\n",
              "      <td>0.000000</td>\n",
              "      <td>0.000000</td>\n",
              "    </tr>\n",
              "    <tr>\n",
              "      <th>25%</th>\n",
              "      <td>47.500000</td>\n",
              "      <td>0.000000</td>\n",
              "      <td>0.000000</td>\n",
              "      <td>120.000000</td>\n",
              "      <td>211.000000</td>\n",
              "      <td>0.000000</td>\n",
              "      <td>0.000000</td>\n",
              "      <td>133.500000</td>\n",
              "      <td>0.000000</td>\n",
              "      <td>0.000000</td>\n",
              "      <td>1.000000</td>\n",
              "      <td>0.000000</td>\n",
              "      <td>2.000000</td>\n",
              "      <td>0.000000</td>\n",
              "    </tr>\n",
              "    <tr>\n",
              "      <th>50%</th>\n",
              "      <td>55.000000</td>\n",
              "      <td>1.000000</td>\n",
              "      <td>1.000000</td>\n",
              "      <td>130.000000</td>\n",
              "      <td>240.000000</td>\n",
              "      <td>0.000000</td>\n",
              "      <td>1.000000</td>\n",
              "      <td>153.000000</td>\n",
              "      <td>0.000000</td>\n",
              "      <td>0.800000</td>\n",
              "      <td>1.000000</td>\n",
              "      <td>0.000000</td>\n",
              "      <td>2.000000</td>\n",
              "      <td>1.000000</td>\n",
              "    </tr>\n",
              "    <tr>\n",
              "      <th>75%</th>\n",
              "      <td>61.000000</td>\n",
              "      <td>1.000000</td>\n",
              "      <td>2.000000</td>\n",
              "      <td>140.000000</td>\n",
              "      <td>274.500000</td>\n",
              "      <td>0.000000</td>\n",
              "      <td>1.000000</td>\n",
              "      <td>166.000000</td>\n",
              "      <td>1.000000</td>\n",
              "      <td>1.600000</td>\n",
              "      <td>2.000000</td>\n",
              "      <td>1.000000</td>\n",
              "      <td>3.000000</td>\n",
              "      <td>1.000000</td>\n",
              "    </tr>\n",
              "    <tr>\n",
              "      <th>max</th>\n",
              "      <td>77.000000</td>\n",
              "      <td>1.000000</td>\n",
              "      <td>3.000000</td>\n",
              "      <td>200.000000</td>\n",
              "      <td>564.000000</td>\n",
              "      <td>1.000000</td>\n",
              "      <td>2.000000</td>\n",
              "      <td>202.000000</td>\n",
              "      <td>1.000000</td>\n",
              "      <td>6.200000</td>\n",
              "      <td>2.000000</td>\n",
              "      <td>4.000000</td>\n",
              "      <td>3.000000</td>\n",
              "      <td>1.000000</td>\n",
              "    </tr>\n",
              "  </tbody>\n",
              "</table>\n",
              "</div>\n",
              "      <button class=\"colab-df-convert\" onclick=\"convertToInteractive('df-72970fb5-a443-4f12-90a9-17aabdfcac13')\"\n",
              "              title=\"Convert this dataframe to an interactive table.\"\n",
              "              style=\"display:none;\">\n",
              "        \n",
              "  <svg xmlns=\"http://www.w3.org/2000/svg\" height=\"24px\"viewBox=\"0 0 24 24\"\n",
              "       width=\"24px\">\n",
              "    <path d=\"M0 0h24v24H0V0z\" fill=\"none\"/>\n",
              "    <path d=\"M18.56 5.44l.94 2.06.94-2.06 2.06-.94-2.06-.94-.94-2.06-.94 2.06-2.06.94zm-11 1L8.5 8.5l.94-2.06 2.06-.94-2.06-.94L8.5 2.5l-.94 2.06-2.06.94zm10 10l.94 2.06.94-2.06 2.06-.94-2.06-.94-.94-2.06-.94 2.06-2.06.94z\"/><path d=\"M17.41 7.96l-1.37-1.37c-.4-.4-.92-.59-1.43-.59-.52 0-1.04.2-1.43.59L10.3 9.45l-7.72 7.72c-.78.78-.78 2.05 0 2.83L4 21.41c.39.39.9.59 1.41.59.51 0 1.02-.2 1.41-.59l7.78-7.78 2.81-2.81c.8-.78.8-2.07 0-2.86zM5.41 20L4 18.59l7.72-7.72 1.47 1.35L5.41 20z\"/>\n",
              "  </svg>\n",
              "      </button>\n",
              "      \n",
              "  <style>\n",
              "    .colab-df-container {\n",
              "      display:flex;\n",
              "      flex-wrap:wrap;\n",
              "      gap: 12px;\n",
              "    }\n",
              "\n",
              "    .colab-df-convert {\n",
              "      background-color: #E8F0FE;\n",
              "      border: none;\n",
              "      border-radius: 50%;\n",
              "      cursor: pointer;\n",
              "      display: none;\n",
              "      fill: #1967D2;\n",
              "      height: 32px;\n",
              "      padding: 0 0 0 0;\n",
              "      width: 32px;\n",
              "    }\n",
              "\n",
              "    .colab-df-convert:hover {\n",
              "      background-color: #E2EBFA;\n",
              "      box-shadow: 0px 1px 2px rgba(60, 64, 67, 0.3), 0px 1px 3px 1px rgba(60, 64, 67, 0.15);\n",
              "      fill: #174EA6;\n",
              "    }\n",
              "\n",
              "    [theme=dark] .colab-df-convert {\n",
              "      background-color: #3B4455;\n",
              "      fill: #D2E3FC;\n",
              "    }\n",
              "\n",
              "    [theme=dark] .colab-df-convert:hover {\n",
              "      background-color: #434B5C;\n",
              "      box-shadow: 0px 1px 3px 1px rgba(0, 0, 0, 0.15);\n",
              "      filter: drop-shadow(0px 1px 2px rgba(0, 0, 0, 0.3));\n",
              "      fill: #FFFFFF;\n",
              "    }\n",
              "  </style>\n",
              "\n",
              "      <script>\n",
              "        const buttonEl =\n",
              "          document.querySelector('#df-72970fb5-a443-4f12-90a9-17aabdfcac13 button.colab-df-convert');\n",
              "        buttonEl.style.display =\n",
              "          google.colab.kernel.accessAllowed ? 'block' : 'none';\n",
              "\n",
              "        async function convertToInteractive(key) {\n",
              "          const element = document.querySelector('#df-72970fb5-a443-4f12-90a9-17aabdfcac13');\n",
              "          const dataTable =\n",
              "            await google.colab.kernel.invokeFunction('convertToInteractive',\n",
              "                                                     [key], {});\n",
              "          if (!dataTable) return;\n",
              "\n",
              "          const docLinkHtml = 'Like what you see? Visit the ' +\n",
              "            '<a target=\"_blank\" href=https://colab.research.google.com/notebooks/data_table.ipynb>data table notebook</a>'\n",
              "            + ' to learn more about interactive tables.';\n",
              "          element.innerHTML = '';\n",
              "          dataTable['output_type'] = 'display_data';\n",
              "          await google.colab.output.renderOutput(dataTable, element);\n",
              "          const docLink = document.createElement('div');\n",
              "          docLink.innerHTML = docLinkHtml;\n",
              "          element.appendChild(docLink);\n",
              "        }\n",
              "      </script>\n",
              "    </div>\n",
              "  </div>\n",
              "  "
            ]
          },
          "metadata": {},
          "execution_count": 7
        }
      ],
      "source": [
        "dataset.describe()"
      ]
    },
    {
      "cell_type": "code",
      "execution_count": null,
      "metadata": {
        "_uuid": "718b82039841c137ab7e08a6e79e264643134642",
        "colab": {
          "base_uri": "https://localhost:8080/"
        },
        "id": "N4nNOkwGlxvy",
        "outputId": "9169420e-8f22-4845-b45d-aba2f0bb837f"
      },
      "outputs": [
        {
          "output_type": "stream",
          "name": "stdout",
          "text": [
            "<class 'pandas.core.frame.DataFrame'>\n",
            "RangeIndex: 303 entries, 0 to 302\n",
            "Data columns (total 14 columns):\n",
            " #   Column    Non-Null Count  Dtype  \n",
            "---  ------    --------------  -----  \n",
            " 0   ï»¿age    303 non-null    int64  \n",
            " 1   sex       303 non-null    int64  \n",
            " 2   cp        303 non-null    int64  \n",
            " 3   trestbps  303 non-null    int64  \n",
            " 4   chol      303 non-null    int64  \n",
            " 5   fbs       303 non-null    int64  \n",
            " 6   restecg   303 non-null    int64  \n",
            " 7   thalach   303 non-null    int64  \n",
            " 8   exang     303 non-null    int64  \n",
            " 9   oldpeak   303 non-null    float64\n",
            " 10  slope     303 non-null    int64  \n",
            " 11  ca        303 non-null    int64  \n",
            " 12  thal      303 non-null    int64  \n",
            " 13  target    303 non-null    int64  \n",
            "dtypes: float64(1), int64(13)\n",
            "memory usage: 33.3 KB\n"
          ]
        }
      ],
      "source": [
        "dataset.info()"
      ]
    },
    {
      "cell_type": "code",
      "execution_count": null,
      "metadata": {
        "_uuid": "99d7182ca186d37f63b1fc433fe74ad5e2bc7d2f",
        "id": "-kYOZG36lxvz"
      },
      "outputs": [],
      "source": [
        "###Luckily, we have no missing values"
      ]
    },
    {
      "cell_type": "markdown",
      "metadata": {
        "_uuid": "85b59fefde7c5ecdb50e3b8da0cb719f4e14630f",
        "id": "GSfdLnuPlxvz"
      },
      "source": [
        "#### Let's understand our columns better:"
      ]
    },
    {
      "cell_type": "code",
      "execution_count": null,
      "metadata": {
        "_uuid": "5593d1021d54aad598c21f877e57969e6b47f5a8",
        "colab": {
          "base_uri": "https://localhost:8080/"
        },
        "id": "BJqm7Mcxlxvz",
        "outputId": "da8d1f61-ed6c-43a2-8717-12e27f858bf2"
      },
      "outputs": [
        {
          "output_type": "stream",
          "name": "stdout",
          "text": [
            "ï»¿age:\t\t\tage\n",
            "sex:\t\t\t1: male, 0: female\n",
            "cp:\t\t\tchest pain type, 1: typical angina, 2: atypical angina, 3: non-anginal pain, 4: asymptomatic\n",
            "trestbps:\t\t\tresting blood pressure\n",
            "chol:\t\t\t serum cholestoral in mg/dl\n",
            "fbs:\t\t\tfasting blood sugar > 120 mg/dl\n",
            "restecg:\t\t\tresting electrocardiographic results (values 0,1,2)\n",
            "thalach:\t\t\t maximum heart rate achieved\n",
            "exang:\t\t\texercise induced angina\n",
            "oldpeak:\t\t\toldpeak = ST depression induced by exercise relative to rest\n",
            "slope:\t\t\tthe slope of the peak exercise ST segment\n",
            "ca:\t\t\tnumber of major vessels (0-3) colored by flourosopy\n",
            "thal:\t\t\tthal: 3 = normal; 6 = fixed defect; 7 = reversable defect\n"
          ]
        }
      ],
      "source": [
        "info = [\"age\",\"1: male, 0: female\",\"chest pain type, 1: typical angina, 2: atypical angina, 3: non-anginal pain, 4: asymptomatic\",\"resting blood pressure\",\" serum cholestoral in mg/dl\",\"fasting blood sugar > 120 mg/dl\",\"resting electrocardiographic results (values 0,1,2)\",\" maximum heart rate achieved\",\"exercise induced angina\",\"oldpeak = ST depression induced by exercise relative to rest\",\"the slope of the peak exercise ST segment\",\"number of major vessels (0-3) colored by flourosopy\",\"thal: 3 = normal; 6 = fixed defect; 7 = reversable defect\"]\n",
        "\n",
        "\n",
        "\n",
        "for i in range(len(info)):\n",
        "    print(dataset.columns[i]+\":\\t\\t\\t\"+info[i])"
      ]
    },
    {
      "cell_type": "markdown",
      "metadata": {
        "_uuid": "6a970312b67b588610a8579ecc2ba4bac0fcee04",
        "id": "b0MxNiY5lxv0"
      },
      "source": [
        "#### Analysing the 'target' variable"
      ]
    },
    {
      "cell_type": "code",
      "execution_count": null,
      "metadata": {
        "_uuid": "b883243919bd382193ed15e2a90f9b522bf6f1f7",
        "colab": {
          "base_uri": "https://localhost:8080/"
        },
        "id": "rrzCPfN4lxv0",
        "outputId": "ec991360-e59b-4ae1-9902-64477bcf66db"
      },
      "outputs": [
        {
          "output_type": "execute_result",
          "data": {
            "text/plain": [
              "count    303.000000\n",
              "mean       0.544554\n",
              "std        0.498835\n",
              "min        0.000000\n",
              "25%        0.000000\n",
              "50%        1.000000\n",
              "75%        1.000000\n",
              "max        1.000000\n",
              "Name: target, dtype: float64"
            ]
          },
          "metadata": {},
          "execution_count": 11
        }
      ],
      "source": [
        "dataset[\"target\"].describe()"
      ]
    },
    {
      "cell_type": "code",
      "execution_count": null,
      "metadata": {
        "_uuid": "9c107b83e0148914826282bf1f0ab28505d577ab",
        "colab": {
          "base_uri": "https://localhost:8080/"
        },
        "id": "3WEZogGUlxv1",
        "outputId": "eeea9256-267e-4deb-a8e7-acdf6ee6ce78"
      },
      "outputs": [
        {
          "output_type": "execute_result",
          "data": {
            "text/plain": [
              "array([1, 0])"
            ]
          },
          "metadata": {},
          "execution_count": 12
        }
      ],
      "source": [
        "dataset[\"target\"].unique()"
      ]
    },
    {
      "cell_type": "markdown",
      "metadata": {
        "_uuid": "8c96e97e3f52844e8c4c6ff069f53bfe97c9982d",
        "id": "C_ajs8iglxv1"
      },
      "source": [
        "#### Clearly, this is a classification problem, with the target variable having values '0' and '1'"
      ]
    },
    {
      "cell_type": "markdown",
      "metadata": {
        "_uuid": "3ae0dfa26e2daf4cfc8e1c6f3b5008d0dab22ec0",
        "id": "CgyOm8dolxv1"
      },
      "source": [
        "### Checking correlation between columns"
      ]
    },
    {
      "cell_type": "code",
      "execution_count": null,
      "metadata": {
        "_uuid": "3059188d3874be2e0c80e13655609ac6a6fc644f",
        "colab": {
          "base_uri": "https://localhost:8080/"
        },
        "id": "RQpF_OY4lxv2",
        "outputId": "322119e1-cc29-4814-f73a-649b833cc700"
      },
      "outputs": [
        {
          "output_type": "stream",
          "name": "stdout",
          "text": [
            "target      1.000000\n",
            "exang       0.436757\n",
            "cp          0.433798\n",
            "oldpeak     0.430696\n",
            "thalach     0.421741\n",
            "ca          0.391724\n",
            "slope       0.345877\n",
            "thal        0.344029\n",
            "sex         0.280937\n",
            "ï»¿age      0.225439\n",
            "trestbps    0.144931\n",
            "restecg     0.137230\n",
            "chol        0.085239\n",
            "fbs         0.028046\n",
            "Name: target, dtype: float64\n"
          ]
        }
      ],
      "source": [
        "print(dataset.corr()[\"target\"].abs().sort_values(ascending=False))"
      ]
    },
    {
      "cell_type": "code",
      "execution_count": null,
      "metadata": {
        "_uuid": "6e8cf6f86952d94764c1021207fa5b383b2b84bf",
        "id": "5UppiudRlxv2"
      },
      "outputs": [],
      "source": [
        "#This shows that most columns are moderately correlated with target, but 'fbs' is very weakly correlated."
      ]
    },
    {
      "cell_type": "markdown",
      "metadata": {
        "_uuid": "40b6c0a9d03bcab78b87bd41c7df3fe1b930547a",
        "id": "cuFKR1-Rlxv2"
      },
      "source": [
        "## Exploratory Data Analysis (EDA)"
      ]
    },
    {
      "cell_type": "markdown",
      "metadata": {
        "_uuid": "41da6ba94903ad6ee64b1ba6a1462815ae603536",
        "id": "tZlvTIhQlxv3"
      },
      "source": [
        "### First, analysing the target variable:"
      ]
    },
    {
      "cell_type": "code",
      "execution_count": null,
      "metadata": {
        "_uuid": "29aa23ccb8e6438688e16346b3474f4cc03bae13",
        "colab": {
          "base_uri": "https://localhost:8080/",
          "height": 482
        },
        "id": "UvdPVsHzlxv6",
        "outputId": "c0c7e497-c5f9-4cfa-e524-4ed3be55a4d2"
      },
      "outputs": [
        {
          "output_type": "stream",
          "name": "stdout",
          "text": [
            "1    165\n",
            "0    138\n",
            "Name: target, dtype: int64\n"
          ]
        },
        {
          "output_type": "display_data",
          "data": {
            "text/plain": [
              "<Figure size 640x480 with 1 Axes>"
            ],
            "image/png": "[encoded data removed]"
          },
          "metadata": {}
        }
      ],
      "source": [
        "y = dataset[\"target\"]\n",
        "\n",
        "sns.countplot(y)\n",
        "\n",
        "\n",
        "target_temp = dataset.target.value_counts()\n",
        "\n",
        "print(target_temp)"
      ]
    },
    {
      "cell_type": "code",
      "execution_count": null,
      "metadata": {
        "_uuid": "5240af8bcd12736900050cea077c713d7d9641df",
        "colab": {
          "base_uri": "https://localhost:8080/"
        },
        "id": "MMW9FovJlxv7",
        "outputId": "ba023ffc-9afb-4ea4-b71d-23e8b23942d7"
      },
      "outputs": [
        {
          "output_type": "stream",
          "name": "stdout",
          "text": [
            "Percentage of patience without heart problems: 45.54\n",
            "Percentage of patience with heart problems: 54.46\n"
          ]
        }
      ],
      "source": [
        "print(\"Percentage of patience without heart problems: \"+str(round(target_temp[0]*100/303,2)))\n",
        "print(\"Percentage of patience with heart problems: \"+str(round(target_temp[1]*100/303,2)))\n"
      ]
    },
    {
      "cell_type": "markdown",
      "metadata": {
        "_uuid": "e7de1da221d4ee72e89c365fecfa7d4506f1b184",
        "id": "QZdFjEkZlxv7"
      },
      "source": [
        "### We'll analyse 'sex', 'cp', 'fbs', 'restecg', 'exang', 'slope', 'ca' and 'thal' features"
      ]
    },
    {
      "cell_type": "markdown",
      "metadata": {
        "_uuid": "82f9919a1312b53f22980a0071d077e5b0288d90",
        "id": "N8-BJEnvlxv8"
      },
      "source": [
        "### Analysing the 'Sex' feature"
      ]
    },
    {
      "cell_type": "code",
      "execution_count": null,
      "metadata": {
        "_uuid": "07a3fb2f44b82360d0393377029851655bcdcd31",
        "colab": {
          "base_uri": "https://localhost:8080/"
        },
        "id": "J7xCXkDUlxv8",
        "outputId": "ef124726-7a2f-41bc-aa7b-f7cf830d70e0"
      },
      "outputs": [
        {
          "output_type": "execute_result",
          "data": {
            "text/plain": [
              "array([1, 0])"
            ]
          },
          "metadata": {},
          "execution_count": 17
        }
      ],
      "source": [
        "dataset[\"sex\"].unique()"
      ]
    },
    {
      "cell_type": "markdown",
      "metadata": {
        "_uuid": "623fe97e454ea061942ec6d948adeb5b7026cc65",
        "id": "ut1wglWxlxv8"
      },
      "source": [
        "##### We notice, that as expected, the 'sex' feature has 2 unique features"
      ]
    },
    {
      "cell_type": "markdown",
      "metadata": {
        "_uuid": "f7bbd747b02746eadfa2b525544509c8545ac1af",
        "id": "Id5jv9Ktlxv9"
      },
      "source": [
        "### Analysing the 'Chest Pain Type' feature"
      ]
    },
    {
      "cell_type": "code",
      "execution_count": null,
      "metadata": {
        "_uuid": "7c795d4a86ee05d58e10a412add90065afbd4a70",
        "colab": {
          "base_uri": "https://localhost:8080/"
        },
        "id": "ES63SYcSlxv9",
        "outputId": "7e3e3b91-cf4a-4fc9-a81c-5ba2d21b0bb6"
      },
      "outputs": [
        {
          "output_type": "execute_result",
          "data": {
            "text/plain": [
              "array([3, 2, 1, 0])"
            ]
          },
          "metadata": {},
          "execution_count": 19
        }
      ],
      "source": [
        "dataset[\"cp\"].unique()"
      ]
    },
    {
      "cell_type": "markdown",
      "metadata": {
        "_uuid": "4e83947e6876ffa63837c7e5ce1364a53cbfa499",
        "id": "gpovQfQSlxv-"
      },
      "source": [
        "##### As expected, the CP feature has values from 0 to 3"
      ]
    },
    {
      "cell_type": "markdown",
      "metadata": {
        "_uuid": "510c7c3a7386a7e308cc6052025dc806fad61534",
        "id": "BUSFk7K_lxv-"
      },
      "source": [
        "##### We notice, that chest pain of '0', i.e. the ones with typical angina are much less likely to have heart problems"
      ]
    },
    {
      "cell_type": "markdown",
      "metadata": {
        "_uuid": "bb50bd1cedd31d29683e2411439368aa1390e7ef",
        "id": "C2QrwLCelxv_"
      },
      "source": [
        "### Analysing the FBS feature"
      ]
    },
    {
      "cell_type": "code",
      "execution_count": null,
      "metadata": {
        "_uuid": "55f9ca01da5294b5404f3eb14d202ae90e0ea1bf",
        "colab": {
          "base_uri": "https://localhost:8080/"
        },
        "id": "jpjRx8Pllxv_",
        "outputId": "0d5f9a7f-400f-4d1f-fdb4-6d1bbe0fb02e"
      },
      "outputs": [
        {
          "output_type": "execute_result",
          "data": {
            "text/plain": [
              "count    303.000000\n",
              "mean       0.148515\n",
              "std        0.356198\n",
              "min        0.000000\n",
              "25%        0.000000\n",
              "50%        0.000000\n",
              "75%        0.000000\n",
              "max        1.000000\n",
              "Name: fbs, dtype: float64"
            ]
          },
          "metadata": {},
          "execution_count": 22
        }
      ],
      "source": [
        "dataset[\"fbs\"].describe()"
      ]
    },
    {
      "cell_type": "code",
      "execution_count": null,
      "metadata": {
        "_uuid": "43d491d311a8b96a6a9cbecbeff87f577584cd3a",
        "colab": {
          "base_uri": "https://localhost:8080/"
        },
        "id": "opb6Gzoqlxv_",
        "outputId": "da81872e-a89f-4cfc-ba8a-fcfe869dc077"
      },
      "outputs": [
        {
          "output_type": "execute_result",
          "data": {
            "text/plain": [
              "array([1, 0])"
            ]
          },
          "metadata": {},
          "execution_count": 23
        }
      ],
      "source": [
        "dataset[\"fbs\"].unique()"
      ]
    },
    {
      "cell_type": "markdown",
      "metadata": {
        "_uuid": "5a8d6384c879ed40eddefed03b16607bc02deecf",
        "id": "PsuQIuWNlxwA"
      },
      "source": [
        "### Analysing the restecg feature"
      ]
    },
    {
      "cell_type": "code",
      "execution_count": null,
      "metadata": {
        "_uuid": "b12fcc535fe07bc58aa99e97ec9b4e0b01f30a8d",
        "colab": {
          "base_uri": "https://localhost:8080/"
        },
        "id": "RHgMMQLXlxwA",
        "outputId": "378e7f7b-0ce5-4a0b-f53e-d297096a1934"
      },
      "outputs": [
        {
          "output_type": "execute_result",
          "data": {
            "text/plain": [
              "array([0, 1, 2])"
            ]
          },
          "metadata": {},
          "execution_count": 25
        }
      ],
      "source": [
        "dataset[\"restecg\"].unique()"
      ]
    },
    {
      "cell_type": "markdown",
      "metadata": {
        "_uuid": "84cf1d3ca8d3507765bbb3763834c3795380f1bf",
        "id": "gsSe7f_ElxwB"
      },
      "source": [
        "##### We realize that people with restecg '1' and '0' are much more likely to have a heart disease than with restecg '2'"
      ]
    },
    {
      "cell_type": "markdown",
      "metadata": {
        "_uuid": "efaf4d85a6837cf43bd5b33d4eaaf193bc6fedc1",
        "id": "iHNqXap8lxwB"
      },
      "source": [
        "### Analysing the 'exang' feature"
      ]
    },
    {
      "cell_type": "code",
      "execution_count": null,
      "metadata": {
        "_uuid": "53dd2985ea50aa6f9c9e5931050b4ef7b7aa609d",
        "colab": {
          "base_uri": "https://localhost:8080/"
        },
        "id": "DIFJfGZIlxwB",
        "outputId": "0a4649ae-ed0b-4cff-a11b-4936d97a92af"
      },
      "outputs": [
        {
          "output_type": "execute_result",
          "data": {
            "text/plain": [
              "array([0, 1])"
            ]
          },
          "metadata": {},
          "execution_count": 27
        }
      ],
      "source": [
        "dataset[\"exang\"].unique()"
      ]
    },
    {
      "cell_type": "markdown",
      "metadata": {
        "_uuid": "f442f08734344740ebc225af7a565bcb91962dca",
        "id": "jQQeHz8ElxwC"
      },
      "source": [
        "##### People with exang=1 i.e. Exercise induced angina are much less likely to have heart problems"
      ]
    },
    {
      "cell_type": "markdown",
      "metadata": {
        "_uuid": "4ce2d649ededc2126324cd07ce430b005697e288",
        "id": "P3Jrj90DlxwC"
      },
      "source": [
        "### Analysing the Slope feature"
      ]
    },
    {
      "cell_type": "code",
      "execution_count": null,
      "metadata": {
        "_uuid": "e1e148d25967c36d2bb5fbfb802c70dae93f8a4f",
        "colab": {
          "base_uri": "https://localhost:8080/"
        },
        "id": "tjpl2wGflxwD",
        "outputId": "79e479cd-2b02-41d1-9238-83e9fa5b137e"
      },
      "outputs": [
        {
          "output_type": "execute_result",
          "data": {
            "text/plain": [
              "array([0, 2, 1])"
            ]
          },
          "metadata": {},
          "execution_count": 29
        }
      ],
      "source": [
        "dataset[\"slope\"].unique()"
      ]
    },
    {
      "cell_type": "markdown",
      "metadata": {
        "_uuid": "3141a4a203dd433dd7af6c02c1d0b44d048656a0",
        "id": "1JoXQet6lxwD"
      },
      "source": [
        "##### We observe, that Slope '2' causes heart pain much more than Slope '0' and '1'"
      ]
    },
    {
      "cell_type": "markdown",
      "metadata": {
        "_uuid": "c0b39456274f1e0f402704714494161ddc55f16a",
        "id": "IhLhO7W3lxwD"
      },
      "source": [
        "### Analysing the 'ca' feature"
      ]
    },
    {
      "cell_type": "code",
      "execution_count": null,
      "metadata": {
        "_uuid": "50db41d7e9ebe645bc7c6fcbaf26194176c274db",
        "id": "R1MamBNalxwE"
      },
      "outputs": [],
      "source": [
        "#number of major vessels (0-3) colored by flourosopy"
      ]
    },
    {
      "cell_type": "code",
      "execution_count": null,
      "metadata": {
        "_uuid": "a3b7ed6661d24dc399963afbca1e08d79243b431",
        "colab": {
          "base_uri": "https://localhost:8080/"
        },
        "id": "HkhNjfHklxwE",
        "outputId": "7ca7858d-db71-4a2a-c391-eb733ee3d968"
      },
      "outputs": [
        {
          "output_type": "execute_result",
          "data": {
            "text/plain": [
              "array([0, 2, 1, 3, 4])"
            ]
          },
          "metadata": {},
          "execution_count": 31
        }
      ],
      "source": [
        "dataset[\"ca\"].unique()"
      ]
    },
    {
      "cell_type": "code",
      "execution_count": null,
      "metadata": {
        "_uuid": "f463859906d0287c68152ebe3cadc241e569802c",
        "colab": {
          "base_uri": "https://localhost:8080/",
          "height": 447
        },
        "id": "Tr9haECplxwE",
        "outputId": "bd85a2a0-c65d-45e8-80c4-9bb8f71619fb"
      },
      "outputs": [
        {
          "output_type": "execute_result",
          "data": {
            "text/plain": [
              "<Axes: ylabel='count'>"
            ]
          },
          "metadata": {},
          "execution_count": 32
        },
        {
          "output_type": "display_data",
          "data": {
            "text/plain": [
              "<Figure size 640x480 with 1 Axes>"
            ],
            "image/png": "[encoded data removed]"
          },
          "metadata": {}
        }
      ],
      "source": [
        "sns.countplot(dataset[\"ca\"])"
      ]
    },
    {
      "cell_type": "markdown",
      "metadata": {
        "_uuid": "87671e11e19372848af999bb17d061f577eb08b5",
        "id": "mtEfMVtClxwF"
      },
      "source": [
        "##### ca=4 has astonishingly large number of heart patients"
      ]
    },
    {
      "cell_type": "code",
      "execution_count": null,
      "metadata": {
        "_uuid": "b4b057d99c7c3cdbe9e304a75b399f214f352aba",
        "id": "kwbGA4H3lxwG"
      },
      "outputs": [],
      "source": [
        "### Analysing the 'thal' feature"
      ]
    },
    {
      "cell_type": "code",
      "execution_count": null,
      "metadata": {
        "_uuid": "16eaf9a5f7433be2028369818aa54e2bf01e544e",
        "colab": {
          "base_uri": "https://localhost:8080/"
        },
        "id": "_NSDuDnOlxwH",
        "outputId": "d6867e85-9822-427f-83b9-29aca965ea44"
      },
      "outputs": [
        {
          "output_type": "execute_result",
          "data": {
            "text/plain": [
              "array([1, 2, 3, 0])"
            ]
          },
          "metadata": {},
          "execution_count": 35
        }
      ],
      "source": [
        "dataset[\"thal\"].unique()"
      ]
    },
    {
      "cell_type": "code",
      "execution_count": null,
      "metadata": {
        "_uuid": "dc84bb1643cbed20e8ac5980db59ffd54d5b581c",
        "colab": {
          "base_uri": "https://localhost:8080/",
          "height": 466
        },
        "id": "oXun_R_UlxwK",
        "outputId": "d6bfbe45-1f91-42f9-b410-226544c5fc89"
      },
      "outputs": [
        {
          "output_type": "execute_result",
          "data": {
            "text/plain": [
              "<Axes: xlabel='thal', ylabel='Density'>"
            ]
          },
          "metadata": {},
          "execution_count": 37
        },
        {
          "output_type": "display_data",
          "data": {
            "text/plain": [
              "<Figure size 640x480 with 1 Axes>"
            ],
            "image/png": "[encoded data removed]"
          },
          "metadata": {}
        }
      ],
      "source": [
        "sns.distplot(dataset[\"thal\"])"
      ]
    },
    {
      "cell_type": "markdown",
      "metadata": {
        "_uuid": "d1c95f2180e264978c85703ece34898dab4d522b",
        "id": "d5oDJhjTlxwK"
      },
      "source": [
        "## IV. Train Test split"
      ]
    },
    {
      "cell_type": "code",
      "execution_count": null,
      "metadata": {
        "_uuid": "829fcda5b63e1b9f7ecb7762e8ca617166533aca",
        "id": "fcSNBX02lxwK"
      },
      "outputs": [],
      "source": [
        "from sklearn.model_selection import train_test_split\n",
        "\n",
        "predictors = dataset.drop(\"target\",axis=1)\n",
        "target = dataset[\"target\"]\n",
        "\n",
        "X_train,X_test,Y_train,Y_test = train_test_split(predictors,target,test_size=0.20,random_state=0)"
      ]
    },
    {
      "cell_type": "code",
      "execution_count": null,
      "metadata": {
        "_uuid": "7a74842015c2f193d16caa4fa25e2c4cbf1940f8",
        "colab": {
          "base_uri": "https://localhost:8080/"
        },
        "id": "KlU6Oa8slxwL",
        "outputId": "e80d648f-3d42-4fd7-e690-fc395a17acad"
      },
      "outputs": [
        {
          "output_type": "execute_result",
          "data": {
            "text/plain": [
              "(242, 13)"
            ]
          },
          "metadata": {},
          "execution_count": 44
        }
      ],
      "source": [
        "X_train.shape"
      ]
    },
    {
      "cell_type": "code",
      "execution_count": null,
      "metadata": {
        "_uuid": "1f777652df4521deb877dac4d5d635d8cd35b279",
        "colab": {
          "base_uri": "https://localhost:8080/"
        },
        "id": "-KZXI2-0lxwL",
        "outputId": "d81f591d-0e86-4119-98a6-6a958b723afc"
      },
      "outputs": [
        {
          "output_type": "execute_result",
          "data": {
            "text/plain": [
              "(61, 13)"
            ]
          },
          "metadata": {},
          "execution_count": 45
        }
      ],
      "source": [
        "X_test.shape"
      ]
    },
    {
      "cell_type": "code",
      "execution_count": null,
      "metadata": {
        "_uuid": "028c968a076840657faf7dbc3bfee9fe7b5ca45a",
        "colab": {
          "base_uri": "https://localhost:8080/"
        },
        "id": "OVy0RnTLlxwL",
        "outputId": "4a6ff13a-7c51-45b9-a694-94edbc5c4157"
      },
      "outputs": [
        {
          "output_type": "execute_result",
          "data": {
            "text/plain": [
              "(242,)"
            ]
          },
          "metadata": {},
          "execution_count": 46
        }
      ],
      "source": [
        "Y_train.shape"
      ]
    },
    {
      "cell_type": "code",
      "execution_count": null,
      "metadata": {
        "_uuid": "eb6857dfc18da52dae38bec95d20106f39136e61",
        "colab": {
          "base_uri": "https://localhost:8080/"
        },
        "id": "fla-tuTclxwL",
        "outputId": "478c3bc5-26c6-43ee-f650-efbd37286761"
      },
      "outputs": [
        {
          "output_type": "execute_result",
          "data": {
            "text/plain": [
              "(61,)"
            ]
          },
          "metadata": {},
          "execution_count": 47
        }
      ],
      "source": [
        "Y_test.shape"
      ]
    },
    {
      "cell_type": "markdown",
      "metadata": {
        "_uuid": "3b4f28488a92917f26e9876c1880295ec9c077ed",
        "id": "sAfTfsTtlxwM"
      },
      "source": [
        "## V. Model Fitting"
      ]
    },
    {
      "cell_type": "code",
      "execution_count": null,
      "metadata": {
        "_uuid": "fe363c1be8335a48a4444660db5fa6bd0a24b71a",
        "id": "8CKSn6_wlxwM"
      },
      "outputs": [],
      "source": [
        "from sklearn.metrics import accuracy_score"
      ]
    },
    {
      "cell_type": "markdown",
      "metadata": {
        "_uuid": "afa6b322cbc225f3353bd295aea24fe5fbbb78fe",
        "id": "niidDZ64lxwM"
      },
      "source": [
        "### Logistic Regression"
      ]
    },
    {
      "cell_type": "code",
      "execution_count": null,
      "metadata": {
        "_uuid": "9aea2f597203ccf38cd0d67ae58bff6e163dea1c",
        "id": "ox_97fURlxwM"
      },
      "outputs": [],
      "source": [
        "from sklearn.linear_model import LogisticRegression\n",
        "\n",
        "lr = LogisticRegression()\n",
        "\n",
        "lr.fit(X_train,Y_train)\n",
        "\n",
        "Y_pred_lr = lr.predict(X_test)"
      ]
    },
    {
      "cell_type": "code",
      "execution_count": null,
      "metadata": {
        "_uuid": "58fb833d1c74355ebdafe926968632942f377421",
        "colab": {
          "base_uri": "https://localhost:8080/"
        },
        "id": "hff9xC_SlxwN",
        "outputId": "d51d21d4-56b2-498e-a72d-d25aaac6e268"
      },
      "outputs": [
        {
          "output_type": "execute_result",
          "data": {
            "text/plain": [
              "(61,)"
            ]
          },
          "metadata": {},
          "execution_count": 50
        }
      ],
      "source": [
        "Y_pred_lr.shape"
      ]
    },
    {
      "cell_type": "code",
      "execution_count": null,
      "metadata": {
        "_uuid": "ee4cba838316adf863f8daf131d36a970d36b839",
        "colab": {
          "base_uri": "https://localhost:8080/"
        },
        "id": "RldkkPGglxwN",
        "outputId": "9a5a6243-28d1-4f58-f72c-44d0640f1200"
      },
      "outputs": [
        {
          "output_type": "stream",
          "name": "stdout",
          "text": [
            "The accuracy score achieved using Logistic Regression is: 85.25 %\n"
          ]
        }
      ],
      "source": [
        "score_lr = round(accuracy_score(Y_pred_lr,Y_test)*100,2)\n",
        "\n",
        "print(\"The accuracy score achieved using Logistic Regression is: \"+str(score_lr)+\" %\")"
      ]
    },
    {
      "cell_type": "markdown",
      "metadata": {
        "_uuid": "4f92fceb9584ae03d3ab370ee11899cb287be690",
        "id": "OEy-6sLPlxwN"
      },
      "source": [
        "### Naive Bayes"
      ]
    },
    {
      "cell_type": "code",
      "execution_count": null,
      "metadata": {
        "_uuid": "ffcdab99b4108902547f0179a242a9757078dc68",
        "id": "HpyvcFPZlxwN"
      },
      "outputs": [],
      "source": [
        "from sklearn.naive_bayes import GaussianNB\n",
        "\n",
        "nb = GaussianNB()\n",
        "\n",
        "nb.fit(X_train,Y_train)\n",
        "\n",
        "Y_pred_nb = nb.predict(X_test)"
      ]
    },
    {
      "cell_type": "code",
      "execution_count": null,
      "metadata": {
        "_uuid": "9109059d06e4c92494451b3cdab0bbb5a1816072",
        "colab": {
          "base_uri": "https://localhost:8080/"
        },
        "id": "sL0uwNYllxwO",
        "outputId": "5c5f14d0-c7a1-49cc-b9e5-eadfffe60fed"
      },
      "outputs": [
        {
          "output_type": "execute_result",
          "data": {
            "text/plain": [
              "(61,)"
            ]
          },
          "metadata": {},
          "execution_count": 53
        }
      ],
      "source": [
        "Y_pred_nb.shape"
      ]
    },
    {
      "cell_type": "code",
      "execution_count": null,
      "metadata": {
        "_uuid": "e8f8f55db061ada0b669ffa46e9ecc745fcda1ae",
        "colab": {
          "base_uri": "https://localhost:8080/"
        },
        "id": "QV2LPjz5lxwO",
        "outputId": "02653fe3-962d-4d4d-d318-22f0996d078f"
      },
      "outputs": [
        {
          "output_type": "stream",
          "name": "stdout",
          "text": [
            "The accuracy score achieved using Naive Bayes is: 85.25 %\n"
          ]
        }
      ],
      "source": [
        "score_nb = round(accuracy_score(Y_pred_nb,Y_test)*100,2)\n",
        "\n",
        "print(\"The accuracy score achieved using Naive Bayes is: \"+str(score_nb)+\" %\")"
      ]
    },
    {
      "cell_type": "markdown",
      "metadata": {
        "_uuid": "2af8b010893284bae0d6cccf66ccfda646e7ca58",
        "id": "oLKmS6P8lxwP"
      },
      "source": [
        "### SVM"
      ]
    },
    {
      "cell_type": "code",
      "execution_count": null,
      "metadata": {
        "_uuid": "f1936ece7b76b67e552758a4c80e9421bffe0bc2",
        "id": "9rm2DIxclxwQ"
      },
      "outputs": [],
      "source": [
        "from sklearn import svm\n",
        "\n",
        "sv = svm.SVC(kernel='linear')\n",
        "\n",
        "sv.fit(X_train, Y_train)\n",
        "\n",
        "Y_pred_svm = sv.predict(X_test)"
      ]
    },
    {
      "cell_type": "code",
      "execution_count": null,
      "metadata": {
        "_uuid": "36f60f104264d44760705b9c802504f426e15592",
        "colab": {
          "base_uri": "https://localhost:8080/"
        },
        "id": "X9L1phZ8lxwQ",
        "outputId": "5b7c73f7-2ebd-4575-b3ef-225543b30807"
      },
      "outputs": [
        {
          "output_type": "execute_result",
          "data": {
            "text/plain": [
              "(61,)"
            ]
          },
          "metadata": {},
          "execution_count": 56
        }
      ],
      "source": [
        "Y_pred_svm.shape"
      ]
    },
    {
      "cell_type": "code",
      "execution_count": null,
      "metadata": {
        "_uuid": "f5a73bca6721f42b3983c328fd475390ba9bc4d3",
        "colab": {
          "base_uri": "https://localhost:8080/"
        },
        "id": "flmlirP1lxwR",
        "outputId": "07c46e5c-b026-4b4a-8e25-b1c19e769050"
      },
      "outputs": [
        {
          "output_type": "stream",
          "name": "stdout",
          "text": [
            "The accuracy score achieved using Linear SVM is: 81.97 %\n"
          ]
        }
      ],
      "source": [
        "score_svm = round(accuracy_score(Y_pred_svm,Y_test)*100,2)\n",
        "\n",
        "print(\"The accuracy score achieved using Linear SVM is: \"+str(score_svm)+\" %\")"
      ]
    },
    {
      "cell_type": "markdown",
      "metadata": {
        "_uuid": "4e26d165b57f3f7882570964f1c2dc4a548404de",
        "id": "QfpdaOjzlxwR"
      },
      "source": [
        "### K Nearest Neighbors"
      ]
    },
    {
      "cell_type": "code",
      "execution_count": null,
      "metadata": {
        "_uuid": "286352867c53d5fb7dac2fc9bf4b2ac58a466ad0",
        "id": "mheCzK_qlxwR"
      },
      "outputs": [],
      "source": [
        "from sklearn.neighbors import KNeighborsClassifier\n",
        "\n",
        "knn = KNeighborsClassifier(n_neighbors=7)\n",
        "knn.fit(X_train,Y_train)\n",
        "Y_pred_knn=knn.predict(X_test)"
      ]
    },
    {
      "cell_type": "code",
      "execution_count": null,
      "metadata": {
        "_uuid": "bccb7c1fcec36dd2eb7eb222f49604029adec2b4",
        "colab": {
          "base_uri": "https://localhost:8080/"
        },
        "id": "T3ijtC63lxwS",
        "outputId": "359401c0-6a77-48dd-942a-8cf120491e90"
      },
      "outputs": [
        {
          "output_type": "execute_result",
          "data": {
            "text/plain": [
              "(61,)"
            ]
          },
          "metadata": {},
          "execution_count": 59
        }
      ],
      "source": [
        "Y_pred_knn.shape"
      ]
    },
    {
      "cell_type": "code",
      "execution_count": null,
      "metadata": {
        "_uuid": "dda4e8f8f18f96557cdd38cee177de0456db5f45",
        "colab": {
          "base_uri": "https://localhost:8080/"
        },
        "id": "Wpl6pvFWlxwS",
        "outputId": "dfdd785d-8cc1-483f-b560-e89fb3cf0a2a"
      },
      "outputs": [
        {
          "output_type": "stream",
          "name": "stdout",
          "text": [
            "The accuracy score achieved using KNN is: 67.21 %\n"
          ]
        }
      ],
      "source": [
        "score_knn = round(accuracy_score(Y_pred_knn,Y_test)*100,2)\n",
        "\n",
        "print(\"The accuracy score achieved using KNN is: \"+str(score_knn)+\" %\")"
      ]
    },
    {
      "cell_type": "markdown",
      "metadata": {
        "_uuid": "abb767170c662e4d9a8b240fd0fd7286ffb0b67f",
        "id": "NPG7uO1HlxwS"
      },
      "source": [
        "### Decision Tree"
      ]
    },
    {
      "cell_type": "code",
      "execution_count": null,
      "metadata": {
        "_uuid": "8c141316764dce80103d1879c9b17d853702a746",
        "id": "OGahS7ZblxwS"
      },
      "outputs": [],
      "source": [
        "from sklearn.tree import DecisionTreeClassifier\n",
        "\n",
        "max_accuracy = 0\n",
        "\n",
        "\n",
        "for x in range(200):\n",
        "    dt = DecisionTreeClassifier(random_state=x)\n",
        "    dt.fit(X_train,Y_train)\n",
        "    Y_pred_dt = dt.predict(X_test)\n",
        "    current_accuracy = round(accuracy_score(Y_pred_dt,Y_test)*100,2)\n",
        "    if(current_accuracy>max_accuracy):\n",
        "        max_accuracy = current_accuracy\n",
        "        best_x = x\n",
        "        \n",
        "#print(max_accuracy)\n",
        "#print(best_x)\n",
        "\n",
        "\n",
        "dt = DecisionTreeClassifier(random_state=best_x)\n",
        "dt.fit(X_train,Y_train)\n",
        "Y_pred_dt = dt.predict(X_test)"
      ]
    },
    {
      "cell_type": "code",
      "execution_count": null,
      "metadata": {
        "_uuid": "8de0bd2d57abd24d3a97a5b020a24439eb106f2b",
        "colab": {
          "base_uri": "https://localhost:8080/"
        },
        "id": "ltfVFcgplxwT",
        "outputId": "48f64902-f020-4eb2-ddbd-f33f8c55aa45"
      },
      "outputs": [
        {
          "output_type": "stream",
          "name": "stdout",
          "text": [
            "(61,)\n"
          ]
        }
      ],
      "source": [
        "print(Y_pred_dt.shape)"
      ]
    },
    {
      "cell_type": "code",
      "execution_count": null,
      "metadata": {
        "_uuid": "52ab93482d3b53824e9bc2b3e4114c57253e0c5b",
        "colab": {
          "base_uri": "https://localhost:8080/"
        },
        "id": "T2YeQDkKlxwT",
        "outputId": "a81423ec-7efc-45ca-8e0f-d565941f3f1d"
      },
      "outputs": [
        {
          "output_type": "stream",
          "name": "stdout",
          "text": [
            "The accuracy score achieved using Decision Tree is: 81.97 %\n"
          ]
        }
      ],
      "source": [
        "score_dt = round(accuracy_score(Y_pred_dt,Y_test)*100,2)\n",
        "\n",
        "print(\"The accuracy score achieved using Decision Tree is: \"+str(score_dt)+\" %\")"
      ]
    },
    {
      "cell_type": "markdown",
      "metadata": {
        "_uuid": "9e663d26efb00a434751f06ad0292949eff6c358",
        "id": "N0N9c1pglxwT"
      },
      "source": [
        "### Random Forest"
      ]
    },
    {
      "cell_type": "code",
      "execution_count": null,
      "metadata": {
        "_uuid": "8284f5222cf90be1bcd37887c45f91cf22ed1193",
        "id": "qwAlJsmrlxwU"
      },
      "outputs": [],
      "source": [
        "from sklearn.ensemble import RandomForestClassifier\n",
        "\n",
        "max_accuracy = 0\n",
        "\n",
        "\n",
        "for x in range(2000):\n",
        "    rf = RandomForestClassifier(random_state=x)\n",
        "    rf.fit(X_train,Y_train)\n",
        "    Y_pred_rf = rf.predict(X_test)\n",
        "    current_accuracy = round(accuracy_score(Y_pred_rf,Y_test)*100,2)\n",
        "    if(current_accuracy>max_accuracy):\n",
        "        max_accuracy = current_accuracy\n",
        "        best_x = x\n",
        "        \n",
        "#print(max_accuracy)\n",
        "#print(best_x)\n",
        "\n",
        "rf = RandomForestClassifier(random_state=best_x)\n",
        "rf.fit(X_train,Y_train)\n",
        "Y_pred_rf = rf.predict(X_test)"
      ]
    },
    {
      "cell_type": "code",
      "execution_count": null,
      "metadata": {
        "_uuid": "edc8e1cbb57be0aa9e9ad5f4997212d53a9a4c99",
        "colab": {
          "base_uri": "https://localhost:8080/"
        },
        "id": "1EoBmynOlxwW",
        "outputId": "399c2c11-44e1-453c-e046-29ae9ce6cea5"
      },
      "outputs": [
        {
          "output_type": "execute_result",
          "data": {
            "text/plain": [
              "(61,)"
            ]
          },
          "metadata": {},
          "execution_count": 65
        }
      ],
      "source": [
        "Y_pred_rf.shape"
      ]
    },
    {
      "cell_type": "code",
      "execution_count": null,
      "metadata": {
        "_uuid": "965228f30e05e07e7960a3375dc7dc85b49caed7",
        "colab": {
          "base_uri": "https://localhost:8080/"
        },
        "id": "9BCBZg9TlxwW",
        "outputId": "36d08a8a-155c-4163-9626-93b9187139ad"
      },
      "outputs": [
        {
          "output_type": "stream",
          "name": "stdout",
          "text": [
            "The accuracy score achieved using Decision Tree is: 90.16 %\n"
          ]
        }
      ],
      "source": [
        "score_rf = round(accuracy_score(Y_pred_rf,Y_test)*100,2)\n",
        "\n",
        "print(\"The accuracy score achieved using Decision Tree is: \"+str(score_rf)+\" %\")"
      ]
    },
    {
      "cell_type": "markdown",
      "metadata": {
        "_uuid": "6a0fc13a6c2fccd6a725a7691cfe95d74348a8ae",
        "id": "_hp3NScKlxwX"
      },
      "source": [
        "### XGBoost"
      ]
    },
    {
      "cell_type": "code",
      "execution_count": null,
      "metadata": {
        "_uuid": "5a437f3c0e190887e2192ecb1844eaa6eb1d34a7",
        "id": "KiKlmLGUlxwX"
      },
      "outputs": [],
      "source": [
        "import xgboost as xgb\n",
        "\n",
        "xgb_model = xgb.XGBClassifier(objective=\"binary:logistic\", random_state=42)\n",
        "xgb_model.fit(X_train, Y_train)\n",
        "\n",
        "Y_pred_xgb = xgb_model.predict(X_test)"
      ]
    },
    {
      "cell_type": "code",
      "execution_count": null,
      "metadata": {
        "_uuid": "168d52cd705f2abb6763107328c984e4252c618e",
        "colab": {
          "base_uri": "https://localhost:8080/"
        },
        "id": "cUukf8eLlxwX",
        "outputId": "e02c8cc2-31a7-4120-ed2e-7eefcef6d5ea"
      },
      "outputs": [
        {
          "output_type": "execute_result",
          "data": {
            "text/plain": [
              "(61,)"
            ]
          },
          "metadata": {},
          "execution_count": 68
        }
      ],
      "source": [
        "Y_pred_xgb.shape"
      ]
    },
    {
      "cell_type": "code",
      "execution_count": null,
      "metadata": {
        "_uuid": "319c4f0d2e62b03c95a48df0ecc33b15e7fa7f39",
        "colab": {
          "base_uri": "https://localhost:8080/"
        },
        "id": "6RGKlH5glxwX",
        "outputId": "90d54a5f-3bc0-47b1-bd8d-4d3c12239cdd"
      },
      "outputs": [
        {
          "output_type": "stream",
          "name": "stdout",
          "text": [
            "The accuracy score achieved using XGBoost is: 78.69 %\n"
          ]
        }
      ],
      "source": [
        "score_xgb = round(accuracy_score(Y_pred_xgb,Y_test)*100,2)\n",
        "\n",
        "print(\"The accuracy score achieved using XGBoost is: \"+str(score_xgb)+\" %\")"
      ]
    },
    {
      "cell_type": "markdown",
      "metadata": {
        "_uuid": "e224ab23f275a3a56cdba6a9ccfddbd6a4d3b4fd",
        "id": "pxe-gr1TlxwY"
      },
      "source": [
        "### Neural Network"
      ]
    },
    {
      "cell_type": "code",
      "execution_count": null,
      "metadata": {
        "_uuid": "727b391ad6d86468a96e93dc645ade6e2da4048e",
        "id": "l6wE4ghAlxwY"
      },
      "outputs": [],
      "source": [
        "from keras.models import Sequential\n",
        "from keras.layers import Dense"
      ]
    },
    {
      "cell_type": "code",
      "execution_count": null,
      "metadata": {
        "_uuid": "650f1baa7db466923626c707408319fa29f22d10",
        "id": "13bUrI5HlxwY"
      },
      "outputs": [],
      "source": [
        "# https://stats.stackexchange.com/a/136542 helped a lot in avoiding overfitting\n",
        "\n",
        "model = Sequential()\n",
        "model.add(Dense(11,activation='relu',input_dim=13))\n",
        "model.add(Dense(1,activation='sigmoid'))\n",
        "\n",
        "model.compile(loss='binary_crossentropy',optimizer='adam',metrics=['accuracy'])"
      ]
    },
    {
      "cell_type": "code",
      "execution_count": null,
      "metadata": {
        "_uuid": "dde4e50b5c4c24c73b03133fc7c90bf663fd6d82",
        "colab": {
          "base_uri": "https://localhost:8080/"
        },
        "id": "meooV74WlxwY",
        "outputId": "1b572fe2-d26f-4462-e3f1-1a113c2a2a36"
      },
      "outputs": [
        {
          "output_type": "stream",
          "name": "stdout",
          "text": [
            "Epoch 1/300\n",
            "8/8 [==============================] - 1s 4ms/step - loss: 30.9586 - accuracy: 0.5413\n",
            "Epoch 2/300\n",
            "8/8 [==============================] - 0s 3ms/step - loss: 27.1418 - accuracy: 0.5413\n",
            "Epoch 3/300\n",
            "8/8 [==============================] - 0s 2ms/step - loss: 23.6559 - accuracy: 0.5413\n",
            "Epoch 4/300\n",
            "8/8 [==============================] - 0s 2ms/step - loss: 20.0875 - accuracy: 0.5413\n",
            "Epoch 5/300\n",
            "8/8 [==============================] - 0s 2ms/step - loss: 16.7131 - accuracy: 0.5413\n",
            "Epoch 6/300\n",
            "8/8 [==============================] - 0s 2ms/step - loss: 13.4529 - accuracy: 0.5413\n",
            "Epoch 7/300\n",
            "8/8 [==============================] - 0s 2ms/step - loss: 10.1791 - accuracy: 0.5413\n",
            "Epoch 8/300\n",
            "8/8 [==============================] - 0s 3ms/step - loss: 6.9172 - accuracy: 0.5413\n",
            "Epoch 9/300\n",
            "8/8 [==============================] - 0s 3ms/step - loss: 3.8555 - accuracy: 0.5620\n",
            "Epoch 10/300\n",
            "8/8 [==============================] - 0s 2ms/step - loss: 1.4686 - accuracy: 0.6364\n",
            "Epoch 11/300\n",
            "8/8 [==============================] - 0s 3ms/step - loss: 1.2287 - accuracy: 0.5992\n",
            "Epoch 12/300\n",
            "8/8 [==============================] - 0s 2ms/step - loss: 1.3710 - accuracy: 0.5826\n",
            "Epoch 13/300\n",
            "8/8 [==============================] - 0s 2ms/step - loss: 1.1367 - accuracy: 0.6281\n",
            "Epoch 14/300\n",
            "8/8 [==============================] - 0s 2ms/step - loss: 1.0917 - accuracy: 0.6529\n",
            "Epoch 15/300\n",
            "8/8 [==============================] - 0s 2ms/step - loss: 1.1172 - accuracy: 0.6694\n",
            "Epoch 16/300\n",
            "8/8 [==============================] - 0s 2ms/step - loss: 1.0934 - accuracy: 0.6570\n",
            "Epoch 17/300\n",
            "8/8 [==============================] - 0s 2ms/step - loss: 1.0793 - accuracy: 0.6488\n",
            "Epoch 18/300\n",
            "8/8 [==============================] - 0s 3ms/step - loss: 1.0776 - accuracy: 0.6446\n",
            "Epoch 19/300\n",
            "8/8 [==============================] - 0s 4ms/step - loss: 1.0794 - accuracy: 0.6488\n",
            "Epoch 20/300\n",
            "8/8 [==============================] - 0s 3ms/step - loss: 1.0627 - accuracy: 0.6529\n",
            "Epoch 21/300\n",
            "8/8 [==============================] - 0s 2ms/step - loss: 1.0602 - accuracy: 0.6488\n",
            "Epoch 22/300\n",
            "8/8 [==============================] - 0s 2ms/step - loss: 1.0584 - accuracy: 0.6529\n",
            "Epoch 23/300\n",
            "8/8 [==============================] - 0s 2ms/step - loss: 1.0480 - accuracy: 0.6570\n",
            "Epoch 24/300\n",
            "8/8 [==============================] - 0s 3ms/step - loss: 1.0404 - accuracy: 0.6570\n",
            "Epoch 25/300\n",
            "8/8 [==============================] - 0s 3ms/step - loss: 1.0381 - accuracy: 0.6446\n",
            "Epoch 26/300\n",
            "8/8 [==============================] - 0s 2ms/step - loss: 1.0382 - accuracy: 0.6446\n",
            "Epoch 27/300\n",
            "8/8 [==============================] - 0s 2ms/step - loss: 1.0230 - accuracy: 0.6529\n",
            "Epoch 28/300\n",
            "8/8 [==============================] - 0s 2ms/step - loss: 1.0280 - accuracy: 0.6488\n",
            "Epoch 29/300\n",
            "8/8 [==============================] - 0s 2ms/step - loss: 1.0115 - accuracy: 0.6488\n",
            "Epoch 30/300\n",
            "8/8 [==============================] - 0s 2ms/step - loss: 1.0094 - accuracy: 0.6446\n",
            "Epoch 31/300\n",
            "8/8 [==============================] - 0s 2ms/step - loss: 1.0023 - accuracy: 0.6529\n",
            "Epoch 32/300\n",
            "8/8 [==============================] - 0s 2ms/step - loss: 0.9966 - accuracy: 0.6570\n",
            "Epoch 33/300\n",
            "8/8 [==============================] - 0s 2ms/step - loss: 0.9928 - accuracy: 0.6529\n",
            "Epoch 34/300\n",
            "8/8 [==============================] - 0s 2ms/step - loss: 0.9845 - accuracy: 0.6570\n",
            "Epoch 35/300\n",
            "8/8 [==============================] - 0s 2ms/step - loss: 0.9789 - accuracy: 0.6570\n",
            "Epoch 36/300\n",
            "8/8 [==============================] - 0s 3ms/step - loss: 0.9782 - accuracy: 0.6694\n",
            "Epoch 37/300\n",
            "8/8 [==============================] - 0s 2ms/step - loss: 0.9661 - accuracy: 0.6653\n",
            "Epoch 38/300\n",
            "8/8 [==============================] - 0s 2ms/step - loss: 0.9798 - accuracy: 0.6488\n",
            "Epoch 39/300\n",
            "8/8 [==============================] - 0s 2ms/step - loss: 0.9527 - accuracy: 0.6446\n",
            "Epoch 40/300\n",
            "8/8 [==============================] - 0s 2ms/step - loss: 0.9604 - accuracy: 0.6777\n",
            "Epoch 41/300\n",
            "8/8 [==============================] - 0s 2ms/step - loss: 0.9591 - accuracy: 0.6694\n",
            "Epoch 42/300\n",
            "8/8 [==============================] - 0s 2ms/step - loss: 0.9453 - accuracy: 0.6446\n",
            "Epoch 43/300\n",
            "8/8 [==============================] - 0s 2ms/step - loss: 0.9391 - accuracy: 0.6653\n",
            "Epoch 44/300\n",
            "8/8 [==============================] - 0s 2ms/step - loss: 0.9306 - accuracy: 0.6736\n",
            "Epoch 45/300\n",
            "8/8 [==============================] - 0s 2ms/step - loss: 0.9263 - accuracy: 0.6612\n",
            "Epoch 46/300\n",
            "8/8 [==============================] - 0s 2ms/step - loss: 0.9189 - accuracy: 0.6612\n",
            "Epoch 47/300\n",
            "8/8 [==============================] - 0s 3ms/step - loss: 0.9137 - accuracy: 0.6488\n",
            "Epoch 48/300\n",
            "8/8 [==============================] - 0s 2ms/step - loss: 0.9090 - accuracy: 0.6570\n",
            "Epoch 49/300\n",
            "8/8 [==============================] - 0s 2ms/step - loss: 0.8992 - accuracy: 0.6570\n",
            "Epoch 50/300\n",
            "8/8 [==============================] - 0s 3ms/step - loss: 0.8925 - accuracy: 0.6694\n",
            "Epoch 51/300\n",
            "8/8 [==============================] - 0s 3ms/step - loss: 0.8901 - accuracy: 0.6653\n",
            "Epoch 52/300\n",
            "8/8 [==============================] - 0s 2ms/step - loss: 0.8807 - accuracy: 0.6612\n",
            "Epoch 53/300\n",
            "8/8 [==============================] - 0s 2ms/step - loss: 0.8755 - accuracy: 0.6653\n",
            "Epoch 54/300\n",
            "8/8 [==============================] - 0s 2ms/step - loss: 0.8696 - accuracy: 0.6570\n",
            "Epoch 55/300\n",
            "8/8 [==============================] - 0s 2ms/step - loss: 0.8656 - accuracy: 0.6612\n",
            "Epoch 56/300\n",
            "8/8 [==============================] - 0s 2ms/step - loss: 0.8630 - accuracy: 0.6612\n",
            "Epoch 57/300\n",
            "8/8 [==============================] - 0s 2ms/step - loss: 0.8559 - accuracy: 0.6777\n",
            "Epoch 58/300\n",
            "8/8 [==============================] - 0s 2ms/step - loss: 0.8622 - accuracy: 0.6529\n",
            "Epoch 59/300\n",
            "8/8 [==============================] - 0s 2ms/step - loss: 0.8372 - accuracy: 0.6653\n",
            "Epoch 60/300\n",
            "8/8 [==============================] - 0s 2ms/step - loss: 0.8355 - accuracy: 0.6818\n",
            "Epoch 61/300\n",
            "8/8 [==============================] - 0s 2ms/step - loss: 0.8302 - accuracy: 0.6860\n",
            "Epoch 62/300\n",
            "8/8 [==============================] - 0s 2ms/step - loss: 0.8260 - accuracy: 0.6901\n",
            "Epoch 63/300\n",
            "8/8 [==============================] - 0s 2ms/step - loss: 0.8197 - accuracy: 0.6694\n",
            "Epoch 64/300\n",
            "8/8 [==============================] - 0s 2ms/step - loss: 0.8094 - accuracy: 0.6777\n",
            "Epoch 65/300\n",
            "8/8 [==============================] - 0s 3ms/step - loss: 0.8087 - accuracy: 0.6942\n",
            "Epoch 66/300\n",
            "8/8 [==============================] - 0s 2ms/step - loss: 0.7975 - accuracy: 0.6860\n",
            "Epoch 67/300\n",
            "8/8 [==============================] - 0s 2ms/step - loss: 0.7988 - accuracy: 0.6653\n",
            "Epoch 68/300\n",
            "8/8 [==============================] - 0s 2ms/step - loss: 0.7945 - accuracy: 0.6736\n",
            "Epoch 69/300\n",
            "8/8 [==============================] - 0s 2ms/step - loss: 0.7924 - accuracy: 0.6860\n",
            "Epoch 70/300\n",
            "8/8 [==============================] - 0s 2ms/step - loss: 0.7780 - accuracy: 0.6777\n",
            "Epoch 71/300\n",
            "8/8 [==============================] - 0s 2ms/step - loss: 0.7785 - accuracy: 0.6983\n",
            "Epoch 72/300\n",
            "8/8 [==============================] - 0s 2ms/step - loss: 0.7712 - accuracy: 0.6860\n",
            "Epoch 73/300\n",
            "8/8 [==============================] - 0s 2ms/step - loss: 0.7657 - accuracy: 0.6818\n",
            "Epoch 74/300\n",
            "8/8 [==============================] - 0s 2ms/step - loss: 0.7589 - accuracy: 0.6901\n",
            "Epoch 75/300\n",
            "8/8 [==============================] - 0s 2ms/step - loss: 0.7490 - accuracy: 0.6860\n",
            "Epoch 76/300\n",
            "8/8 [==============================] - 0s 3ms/step - loss: 0.7462 - accuracy: 0.6860\n",
            "Epoch 77/300\n",
            "8/8 [==============================] - 0s 2ms/step - loss: 0.7379 - accuracy: 0.6901\n",
            "Epoch 78/300\n",
            "8/8 [==============================] - 0s 2ms/step - loss: 0.7420 - accuracy: 0.7107\n",
            "Epoch 79/300\n",
            "8/8 [==============================] - 0s 3ms/step - loss: 0.7279 - accuracy: 0.6983\n",
            "Epoch 80/300\n",
            "8/8 [==============================] - 0s 2ms/step - loss: 0.7287 - accuracy: 0.6901\n",
            "Epoch 81/300\n",
            "8/8 [==============================] - 0s 2ms/step - loss: 0.7243 - accuracy: 0.6983\n",
            "Epoch 82/300\n",
            "8/8 [==============================] - 0s 2ms/step - loss: 0.7269 - accuracy: 0.6736\n",
            "Epoch 83/300\n",
            "8/8 [==============================] - 0s 2ms/step - loss: 0.7069 - accuracy: 0.6983\n",
            "Epoch 84/300\n",
            "8/8 [==============================] - 0s 2ms/step - loss: 0.7062 - accuracy: 0.7066\n",
            "Epoch 85/300\n",
            "8/8 [==============================] - 0s 2ms/step - loss: 0.6948 - accuracy: 0.7149\n",
            "Epoch 86/300\n",
            "8/8 [==============================] - 0s 2ms/step - loss: 0.7001 - accuracy: 0.6942\n",
            "Epoch 87/300\n",
            "8/8 [==============================] - 0s 2ms/step - loss: 0.6856 - accuracy: 0.7025\n",
            "Epoch 88/300\n",
            "8/8 [==============================] - 0s 2ms/step - loss: 0.6897 - accuracy: 0.7107\n",
            "Epoch 89/300\n",
            "8/8 [==============================] - 0s 2ms/step - loss: 0.6904 - accuracy: 0.7107\n",
            "Epoch 90/300\n",
            "8/8 [==============================] - 0s 2ms/step - loss: 0.6742 - accuracy: 0.7025\n",
            "Epoch 91/300\n",
            "8/8 [==============================] - 0s 3ms/step - loss: 0.7109 - accuracy: 0.7149\n",
            "Epoch 92/300\n",
            "8/8 [==============================] - 0s 2ms/step - loss: 0.7027 - accuracy: 0.6818\n",
            "Epoch 93/300\n",
            "8/8 [==============================] - 0s 2ms/step - loss: 0.6515 - accuracy: 0.7066\n",
            "Epoch 94/300\n",
            "8/8 [==============================] - 0s 2ms/step - loss: 0.6599 - accuracy: 0.7190\n",
            "Epoch 95/300\n",
            "8/8 [==============================] - 0s 2ms/step - loss: 0.6466 - accuracy: 0.7273\n",
            "Epoch 96/300\n",
            "8/8 [==============================] - 0s 2ms/step - loss: 0.6468 - accuracy: 0.7273\n",
            "Epoch 97/300\n",
            "8/8 [==============================] - 0s 2ms/step - loss: 0.6385 - accuracy: 0.7355\n",
            "Epoch 98/300\n",
            "8/8 [==============================] - 0s 2ms/step - loss: 0.6314 - accuracy: 0.7314\n",
            "Epoch 99/300\n",
            "8/8 [==============================] - 0s 2ms/step - loss: 0.6308 - accuracy: 0.7355\n",
            "Epoch 100/300\n",
            "8/8 [==============================] - 0s 3ms/step - loss: 0.6281 - accuracy: 0.7273\n",
            "Epoch 101/300\n",
            "8/8 [==============================] - 0s 2ms/step - loss: 0.6272 - accuracy: 0.7273\n",
            "Epoch 102/300\n",
            "8/8 [==============================] - 0s 2ms/step - loss: 0.6183 - accuracy: 0.7314\n",
            "Epoch 103/300\n",
            "8/8 [==============================] - 0s 2ms/step - loss: 0.6144 - accuracy: 0.7438\n",
            "Epoch 104/300\n",
            "8/8 [==============================] - 0s 2ms/step - loss: 0.6074 - accuracy: 0.7438\n",
            "Epoch 105/300\n",
            "8/8 [==============================] - 0s 2ms/step - loss: 0.6045 - accuracy: 0.7397\n",
            "Epoch 106/300\n",
            "8/8 [==============================] - 0s 2ms/step - loss: 0.6013 - accuracy: 0.7438\n",
            "Epoch 107/300\n",
            "8/8 [==============================] - 0s 2ms/step - loss: 0.6072 - accuracy: 0.7149\n",
            "Epoch 108/300\n",
            "8/8 [==============================] - 0s 2ms/step - loss: 0.5872 - accuracy: 0.7521\n",
            "Epoch 109/300\n",
            "8/8 [==============================] - 0s 2ms/step - loss: 0.5946 - accuracy: 0.7479\n",
            "Epoch 110/300\n",
            "8/8 [==============================] - 0s 2ms/step - loss: 0.5852 - accuracy: 0.7355\n",
            "Epoch 111/300\n",
            "8/8 [==============================] - 0s 2ms/step - loss: 0.5864 - accuracy: 0.7397\n",
            "Epoch 112/300\n",
            "8/8 [==============================] - 0s 2ms/step - loss: 0.5723 - accuracy: 0.7562\n",
            "Epoch 113/300\n",
            "8/8 [==============================] - 0s 2ms/step - loss: 0.5712 - accuracy: 0.7521\n",
            "Epoch 114/300\n",
            "8/8 [==============================] - 0s 2ms/step - loss: 0.5650 - accuracy: 0.7562\n",
            "Epoch 115/300\n",
            "8/8 [==============================] - 0s 2ms/step - loss: 0.5620 - accuracy: 0.7521\n",
            "Epoch 116/300\n",
            "8/8 [==============================] - 0s 2ms/step - loss: 0.5578 - accuracy: 0.7603\n",
            "Epoch 117/300\n",
            "8/8 [==============================] - 0s 3ms/step - loss: 0.5664 - accuracy: 0.7686\n",
            "Epoch 118/300\n",
            "8/8 [==============================] - 0s 2ms/step - loss: 0.5513 - accuracy: 0.7603\n",
            "Epoch 119/300\n",
            "8/8 [==============================] - 0s 2ms/step - loss: 0.5483 - accuracy: 0.7521\n",
            "Epoch 120/300\n",
            "8/8 [==============================] - 0s 2ms/step - loss: 0.5459 - accuracy: 0.7645\n",
            "Epoch 121/300\n",
            "8/8 [==============================] - 0s 3ms/step - loss: 0.5472 - accuracy: 0.7562\n",
            "Epoch 122/300\n",
            "8/8 [==============================] - 0s 2ms/step - loss: 0.5390 - accuracy: 0.7727\n",
            "Epoch 123/300\n",
            "8/8 [==============================] - 0s 2ms/step - loss: 0.5311 - accuracy: 0.7686\n",
            "Epoch 124/300\n",
            "8/8 [==============================] - 0s 2ms/step - loss: 0.5342 - accuracy: 0.7727\n",
            "Epoch 125/300\n",
            "8/8 [==============================] - 0s 2ms/step - loss: 0.5292 - accuracy: 0.7727\n",
            "Epoch 126/300\n",
            "8/8 [==============================] - 0s 2ms/step - loss: 0.5243 - accuracy: 0.7686\n",
            "Epoch 127/300\n",
            "8/8 [==============================] - 0s 2ms/step - loss: 0.5264 - accuracy: 0.7645\n",
            "Epoch 128/300\n",
            "8/8 [==============================] - 0s 2ms/step - loss: 0.5206 - accuracy: 0.7645\n",
            "Epoch 129/300\n",
            "8/8 [==============================] - 0s 2ms/step - loss: 0.5249 - accuracy: 0.7686\n",
            "Epoch 130/300\n",
            "8/8 [==============================] - 0s 2ms/step - loss: 0.5129 - accuracy: 0.7727\n",
            "Epoch 131/300\n",
            "8/8 [==============================] - 0s 3ms/step - loss: 0.5113 - accuracy: 0.7810\n",
            "Epoch 132/300\n",
            "8/8 [==============================] - 0s 3ms/step - loss: 0.5037 - accuracy: 0.7769\n",
            "Epoch 133/300\n",
            "8/8 [==============================] - 0s 2ms/step - loss: 0.5035 - accuracy: 0.7769\n",
            "Epoch 134/300\n",
            "8/8 [==============================] - 0s 2ms/step - loss: 0.5072 - accuracy: 0.7686\n",
            "Epoch 135/300\n",
            "8/8 [==============================] - 0s 3ms/step - loss: 0.4936 - accuracy: 0.7810\n",
            "Epoch 136/300\n",
            "8/8 [==============================] - 0s 2ms/step - loss: 0.4963 - accuracy: 0.7686\n",
            "Epoch 137/300\n",
            "8/8 [==============================] - 0s 3ms/step - loss: 0.4967 - accuracy: 0.7851\n",
            "Epoch 138/300\n",
            "8/8 [==============================] - 0s 2ms/step - loss: 0.4982 - accuracy: 0.7603\n",
            "Epoch 139/300\n",
            "8/8 [==============================] - 0s 2ms/step - loss: 0.4947 - accuracy: 0.7975\n",
            "Epoch 140/300\n",
            "8/8 [==============================] - 0s 2ms/step - loss: 0.4835 - accuracy: 0.7769\n",
            "Epoch 141/300\n",
            "8/8 [==============================] - 0s 2ms/step - loss: 0.4794 - accuracy: 0.7851\n",
            "Epoch 142/300\n",
            "8/8 [==============================] - 0s 2ms/step - loss: 0.4825 - accuracy: 0.7851\n",
            "Epoch 143/300\n",
            "8/8 [==============================] - 0s 2ms/step - loss: 0.5115 - accuracy: 0.7562\n",
            "Epoch 144/300\n",
            "8/8 [==============================] - 0s 2ms/step - loss: 0.4755 - accuracy: 0.7893\n",
            "Epoch 145/300\n",
            "8/8 [==============================] - 0s 2ms/step - loss: 0.4808 - accuracy: 0.7934\n",
            "Epoch 146/300\n",
            "8/8 [==============================] - 0s 2ms/step - loss: 0.4711 - accuracy: 0.7769\n",
            "Epoch 147/300\n",
            "8/8 [==============================] - 0s 2ms/step - loss: 0.4725 - accuracy: 0.7851\n",
            "Epoch 148/300\n",
            "8/8 [==============================] - 0s 2ms/step - loss: 0.4679 - accuracy: 0.7934\n",
            "Epoch 149/300\n",
            "8/8 [==============================] - 0s 2ms/step - loss: 0.4654 - accuracy: 0.7893\n",
            "Epoch 150/300\n",
            "8/8 [==============================] - 0s 2ms/step - loss: 0.4644 - accuracy: 0.8058\n",
            "Epoch 151/300\n",
            "8/8 [==============================] - 0s 2ms/step - loss: 0.4531 - accuracy: 0.7934\n",
            "Epoch 152/300\n",
            "8/8 [==============================] - 0s 2ms/step - loss: 0.4753 - accuracy: 0.7727\n",
            "Epoch 153/300\n",
            "8/8 [==============================] - 0s 2ms/step - loss: 0.4481 - accuracy: 0.8058\n",
            "Epoch 154/300\n",
            "8/8 [==============================] - 0s 3ms/step - loss: 0.4581 - accuracy: 0.8017\n",
            "Epoch 155/300\n",
            "8/8 [==============================] - 0s 2ms/step - loss: 0.4876 - accuracy: 0.7686\n",
            "Epoch 156/300\n",
            "8/8 [==============================] - 0s 2ms/step - loss: 0.4586 - accuracy: 0.8017\n",
            "Epoch 157/300\n",
            "8/8 [==============================] - 0s 3ms/step - loss: 0.4479 - accuracy: 0.8058\n",
            "Epoch 158/300\n",
            "8/8 [==============================] - 0s 2ms/step - loss: 0.4487 - accuracy: 0.7934\n",
            "Epoch 159/300\n",
            "8/8 [==============================] - 0s 2ms/step - loss: 0.4474 - accuracy: 0.7975\n",
            "Epoch 160/300\n",
            "8/8 [==============================] - 0s 3ms/step - loss: 0.4402 - accuracy: 0.8058\n",
            "Epoch 161/300\n",
            "8/8 [==============================] - 0s 3ms/step - loss: 0.4398 - accuracy: 0.7975\n",
            "Epoch 162/300\n",
            "8/8 [==============================] - 0s 2ms/step - loss: 0.4408 - accuracy: 0.7975\n",
            "Epoch 163/300\n",
            "8/8 [==============================] - 0s 2ms/step - loss: 0.4338 - accuracy: 0.8017\n",
            "Epoch 164/300\n",
            "8/8 [==============================] - 0s 3ms/step - loss: 0.4355 - accuracy: 0.8017\n",
            "Epoch 165/300\n",
            "8/8 [==============================] - 0s 3ms/step - loss: 0.4312 - accuracy: 0.8140\n",
            "Epoch 166/300\n",
            "8/8 [==============================] - 0s 3ms/step - loss: 0.4314 - accuracy: 0.8058\n",
            "Epoch 167/300\n",
            "8/8 [==============================] - 0s 3ms/step - loss: 0.4288 - accuracy: 0.8099\n",
            "Epoch 168/300\n",
            "8/8 [==============================] - 0s 3ms/step - loss: 0.4278 - accuracy: 0.8099\n",
            "Epoch 169/300\n",
            "8/8 [==============================] - 0s 3ms/step - loss: 0.4255 - accuracy: 0.8099\n",
            "Epoch 170/300\n",
            "8/8 [==============================] - 0s 3ms/step - loss: 0.4248 - accuracy: 0.8058\n",
            "Epoch 171/300\n",
            "8/8 [==============================] - 0s 3ms/step - loss: 0.4223 - accuracy: 0.8058\n",
            "Epoch 172/300\n",
            "8/8 [==============================] - 0s 2ms/step - loss: 0.4240 - accuracy: 0.8099\n",
            "Epoch 173/300\n",
            "8/8 [==============================] - 0s 2ms/step - loss: 0.4216 - accuracy: 0.8099\n",
            "Epoch 174/300\n",
            "8/8 [==============================] - 0s 2ms/step - loss: 0.4237 - accuracy: 0.8099\n",
            "Epoch 175/300\n",
            "8/8 [==============================] - 0s 3ms/step - loss: 0.4237 - accuracy: 0.8058\n",
            "Epoch 176/300\n",
            "8/8 [==============================] - 0s 3ms/step - loss: 0.4292 - accuracy: 0.8140\n",
            "Epoch 177/300\n",
            "8/8 [==============================] - 0s 2ms/step - loss: 0.4287 - accuracy: 0.8058\n",
            "Epoch 178/300\n",
            "8/8 [==============================] - 0s 2ms/step - loss: 0.4158 - accuracy: 0.8140\n",
            "Epoch 179/300\n",
            "8/8 [==============================] - 0s 2ms/step - loss: 0.4188 - accuracy: 0.8223\n",
            "Epoch 180/300\n",
            "8/8 [==============================] - 0s 2ms/step - loss: 0.4222 - accuracy: 0.7851\n",
            "Epoch 181/300\n",
            "8/8 [==============================] - 0s 2ms/step - loss: 0.4114 - accuracy: 0.8099\n",
            "Epoch 182/300\n",
            "8/8 [==============================] - 0s 2ms/step - loss: 0.4115 - accuracy: 0.8140\n",
            "Epoch 183/300\n",
            "8/8 [==============================] - 0s 2ms/step - loss: 0.4096 - accuracy: 0.8058\n",
            "Epoch 184/300\n",
            "8/8 [==============================] - 0s 2ms/step - loss: 0.4116 - accuracy: 0.8140\n",
            "Epoch 185/300\n",
            "8/8 [==============================] - 0s 2ms/step - loss: 0.4124 - accuracy: 0.8223\n",
            "Epoch 186/300\n",
            "8/8 [==============================] - 0s 3ms/step - loss: 0.4049 - accuracy: 0.8058\n",
            "Epoch 187/300\n",
            "8/8 [==============================] - 0s 2ms/step - loss: 0.4106 - accuracy: 0.7975\n",
            "Epoch 188/300\n",
            "8/8 [==============================] - 0s 2ms/step - loss: 0.4087 - accuracy: 0.8223\n",
            "Epoch 189/300\n",
            "8/8 [==============================] - 0s 4ms/step - loss: 0.4279 - accuracy: 0.8017\n",
            "Epoch 190/300\n",
            "8/8 [==============================] - 0s 2ms/step - loss: 0.4082 - accuracy: 0.8182\n",
            "Epoch 191/300\n",
            "8/8 [==============================] - 0s 3ms/step - loss: 0.4057 - accuracy: 0.8182\n",
            "Epoch 192/300\n",
            "8/8 [==============================] - 0s 2ms/step - loss: 0.3961 - accuracy: 0.8140\n",
            "Epoch 193/300\n",
            "8/8 [==============================] - 0s 3ms/step - loss: 0.4050 - accuracy: 0.8264\n",
            "Epoch 194/300\n",
            "8/8 [==============================] - 0s 3ms/step - loss: 0.4132 - accuracy: 0.8099\n",
            "Epoch 195/300\n",
            "8/8 [==============================] - 0s 3ms/step - loss: 0.3990 - accuracy: 0.8264\n",
            "Epoch 196/300\n",
            "8/8 [==============================] - 0s 2ms/step - loss: 0.4008 - accuracy: 0.8223\n",
            "Epoch 197/300\n",
            "8/8 [==============================] - 0s 2ms/step - loss: 0.3969 - accuracy: 0.8099\n",
            "Epoch 198/300\n",
            "8/8 [==============================] - 0s 2ms/step - loss: 0.4029 - accuracy: 0.8140\n",
            "Epoch 199/300\n",
            "8/8 [==============================] - 0s 2ms/step - loss: 0.3987 - accuracy: 0.8058\n",
            "Epoch 200/300\n",
            "8/8 [==============================] - 0s 3ms/step - loss: 0.4156 - accuracy: 0.8140\n",
            "Epoch 201/300\n",
            "8/8 [==============================] - 0s 3ms/step - loss: 0.4185 - accuracy: 0.7851\n",
            "Epoch 202/300\n",
            "8/8 [==============================] - 0s 2ms/step - loss: 0.4000 - accuracy: 0.8182\n",
            "Epoch 203/300\n",
            "8/8 [==============================] - 0s 3ms/step - loss: 0.3963 - accuracy: 0.8264\n",
            "Epoch 204/300\n",
            "8/8 [==============================] - 0s 3ms/step - loss: 0.4135 - accuracy: 0.8140\n",
            "Epoch 205/300\n",
            "8/8 [==============================] - 0s 3ms/step - loss: 0.3905 - accuracy: 0.8223\n",
            "Epoch 206/300\n",
            "8/8 [==============================] - 0s 2ms/step - loss: 0.3918 - accuracy: 0.8264\n",
            "Epoch 207/300\n",
            "8/8 [==============================] - 0s 3ms/step - loss: 0.3976 - accuracy: 0.8182\n",
            "Epoch 208/300\n",
            "8/8 [==============================] - 0s 3ms/step - loss: 0.3988 - accuracy: 0.8306\n",
            "Epoch 209/300\n",
            "8/8 [==============================] - 0s 3ms/step - loss: 0.3921 - accuracy: 0.8182\n",
            "Epoch 210/300\n",
            "8/8 [==============================] - 0s 3ms/step - loss: 0.3909 - accuracy: 0.8264\n",
            "Epoch 211/300\n",
            "8/8 [==============================] - 0s 3ms/step - loss: 0.3895 - accuracy: 0.8223\n",
            "Epoch 212/300\n",
            "8/8 [==============================] - 0s 2ms/step - loss: 0.3874 - accuracy: 0.8264\n",
            "Epoch 213/300\n",
            "8/8 [==============================] - 0s 2ms/step - loss: 0.3846 - accuracy: 0.8347\n",
            "Epoch 214/300\n",
            "8/8 [==============================] - 0s 2ms/step - loss: 0.3891 - accuracy: 0.8264\n",
            "Epoch 215/300\n",
            "8/8 [==============================] - 0s 2ms/step - loss: 0.3895 - accuracy: 0.8140\n",
            "Epoch 216/300\n",
            "8/8 [==============================] - 0s 2ms/step - loss: 0.3895 - accuracy: 0.8306\n",
            "Epoch 217/300\n",
            "8/8 [==============================] - 0s 3ms/step - loss: 0.3819 - accuracy: 0.8347\n",
            "Epoch 218/300\n",
            "8/8 [==============================] - 0s 3ms/step - loss: 0.3814 - accuracy: 0.8182\n",
            "Epoch 219/300\n",
            "8/8 [==============================] - 0s 2ms/step - loss: 0.3819 - accuracy: 0.8388\n",
            "Epoch 220/300\n",
            "8/8 [==============================] - 0s 3ms/step - loss: 0.3831 - accuracy: 0.8182\n",
            "Epoch 221/300\n",
            "8/8 [==============================] - 0s 2ms/step - loss: 0.3864 - accuracy: 0.8306\n",
            "Epoch 222/300\n",
            "8/8 [==============================] - 0s 2ms/step - loss: 0.3931 - accuracy: 0.8388\n",
            "Epoch 223/300\n",
            "8/8 [==============================] - 0s 2ms/step - loss: 0.3822 - accuracy: 0.8347\n",
            "Epoch 224/300\n",
            "8/8 [==============================] - 0s 2ms/step - loss: 0.3817 - accuracy: 0.8430\n",
            "Epoch 225/300\n",
            "8/8 [==============================] - 0s 2ms/step - loss: 0.3790 - accuracy: 0.8306\n",
            "Epoch 226/300\n",
            "8/8 [==============================] - 0s 2ms/step - loss: 0.3831 - accuracy: 0.8306\n",
            "Epoch 227/300\n",
            "8/8 [==============================] - 0s 3ms/step - loss: 0.3813 - accuracy: 0.8347\n",
            "Epoch 228/300\n",
            "8/8 [==============================] - 0s 2ms/step - loss: 0.3780 - accuracy: 0.8306\n",
            "Epoch 229/300\n",
            "8/8 [==============================] - 0s 3ms/step - loss: 0.3842 - accuracy: 0.8347\n",
            "Epoch 230/300\n",
            "8/8 [==============================] - 0s 3ms/step - loss: 0.3789 - accuracy: 0.8264\n",
            "Epoch 231/300\n",
            "8/8 [==============================] - 0s 2ms/step - loss: 0.3930 - accuracy: 0.8182\n",
            "Epoch 232/300\n",
            "8/8 [==============================] - 0s 2ms/step - loss: 0.3889 - accuracy: 0.8182\n",
            "Epoch 233/300\n",
            "8/8 [==============================] - 0s 3ms/step - loss: 0.3893 - accuracy: 0.8140\n",
            "Epoch 234/300\n",
            "8/8 [==============================] - 0s 3ms/step - loss: 0.3906 - accuracy: 0.8347\n",
            "Epoch 235/300\n",
            "8/8 [==============================] - 0s 2ms/step - loss: 0.3777 - accuracy: 0.8471\n",
            "Epoch 236/300\n",
            "8/8 [==============================] - 0s 3ms/step - loss: 0.3746 - accuracy: 0.8306\n",
            "Epoch 237/300\n",
            "8/8 [==============================] - 0s 2ms/step - loss: 0.3754 - accuracy: 0.8347\n",
            "Epoch 238/300\n",
            "8/8 [==============================] - 0s 3ms/step - loss: 0.3783 - accuracy: 0.8347\n",
            "Epoch 239/300\n",
            "8/8 [==============================] - 0s 2ms/step - loss: 0.3832 - accuracy: 0.8223\n",
            "Epoch 240/300\n",
            "8/8 [==============================] - 0s 3ms/step - loss: 0.4042 - accuracy: 0.8140\n",
            "Epoch 241/300\n",
            "8/8 [==============================] - 0s 3ms/step - loss: 0.3918 - accuracy: 0.8140\n",
            "Epoch 242/300\n",
            "8/8 [==============================] - 0s 3ms/step - loss: 0.3792 - accuracy: 0.8306\n",
            "Epoch 243/300\n",
            "8/8 [==============================] - 0s 3ms/step - loss: 0.3951 - accuracy: 0.8140\n",
            "Epoch 244/300\n",
            "8/8 [==============================] - 0s 3ms/step - loss: 0.3867 - accuracy: 0.8471\n",
            "Epoch 245/300\n",
            "8/8 [==============================] - 0s 3ms/step - loss: 0.3897 - accuracy: 0.8140\n",
            "Epoch 246/300\n",
            "8/8 [==============================] - 0s 3ms/step - loss: 0.3718 - accuracy: 0.8430\n",
            "Epoch 247/300\n",
            "8/8 [==============================] - 0s 4ms/step - loss: 0.3755 - accuracy: 0.8430\n",
            "Epoch 248/300\n",
            "8/8 [==============================] - 0s 3ms/step - loss: 0.3742 - accuracy: 0.8554\n",
            "Epoch 249/300\n",
            "8/8 [==============================] - 0s 3ms/step - loss: 0.3724 - accuracy: 0.8430\n",
            "Epoch 250/300\n",
            "8/8 [==============================] - 0s 3ms/step - loss: 0.3730 - accuracy: 0.8347\n",
            "Epoch 251/300\n",
            "8/8 [==============================] - 0s 3ms/step - loss: 0.3705 - accuracy: 0.8554\n",
            "Epoch 252/300\n",
            "8/8 [==============================] - 0s 4ms/step - loss: 0.3705 - accuracy: 0.8471\n",
            "Epoch 253/300\n",
            "8/8 [==============================] - 0s 3ms/step - loss: 0.3701 - accuracy: 0.8388\n",
            "Epoch 254/300\n",
            "8/8 [==============================] - 0s 5ms/step - loss: 0.3713 - accuracy: 0.8554\n",
            "Epoch 255/300\n",
            "8/8 [==============================] - 0s 5ms/step - loss: 0.3712 - accuracy: 0.8471\n",
            "Epoch 256/300\n",
            "8/8 [==============================] - 0s 3ms/step - loss: 0.3686 - accuracy: 0.8388\n",
            "Epoch 257/300\n",
            "8/8 [==============================] - 0s 3ms/step - loss: 0.3721 - accuracy: 0.8430\n",
            "Epoch 258/300\n",
            "8/8 [==============================] - 0s 3ms/step - loss: 0.3721 - accuracy: 0.8512\n",
            "Epoch 259/300\n",
            "8/8 [==============================] - 0s 3ms/step - loss: 0.3661 - accuracy: 0.8430\n",
            "Epoch 260/300\n",
            "8/8 [==============================] - 0s 3ms/step - loss: 0.3696 - accuracy: 0.8471\n",
            "Epoch 261/300\n",
            "8/8 [==============================] - 0s 3ms/step - loss: 0.3658 - accuracy: 0.8430\n",
            "Epoch 262/300\n",
            "8/8 [==============================] - 0s 3ms/step - loss: 0.3676 - accuracy: 0.8471\n",
            "Epoch 263/300\n",
            "8/8 [==============================] - 0s 4ms/step - loss: 0.3687 - accuracy: 0.8430\n",
            "Epoch 264/300\n",
            "8/8 [==============================] - 0s 4ms/step - loss: 0.3720 - accuracy: 0.8347\n",
            "Epoch 265/300\n",
            "8/8 [==============================] - 0s 3ms/step - loss: 0.3719 - accuracy: 0.8512\n",
            "Epoch 266/300\n",
            "8/8 [==============================] - 0s 4ms/step - loss: 0.3641 - accuracy: 0.8471\n",
            "Epoch 267/300\n",
            "8/8 [==============================] - 0s 4ms/step - loss: 0.3722 - accuracy: 0.8347\n",
            "Epoch 268/300\n",
            "8/8 [==============================] - 0s 3ms/step - loss: 0.3689 - accuracy: 0.8512\n",
            "Epoch 269/300\n",
            "8/8 [==============================] - 0s 3ms/step - loss: 0.3660 - accuracy: 0.8430\n",
            "Epoch 270/300\n",
            "8/8 [==============================] - 0s 3ms/step - loss: 0.3651 - accuracy: 0.8471\n",
            "Epoch 271/300\n",
            "8/8 [==============================] - 0s 4ms/step - loss: 0.3663 - accuracy: 0.8347\n",
            "Epoch 272/300\n",
            "8/8 [==============================] - 0s 3ms/step - loss: 0.3703 - accuracy: 0.8430\n",
            "Epoch 273/300\n",
            "8/8 [==============================] - 0s 3ms/step - loss: 0.3652 - accuracy: 0.8430\n",
            "Epoch 274/300\n",
            "8/8 [==============================] - 0s 4ms/step - loss: 0.3668 - accuracy: 0.8347\n",
            "Epoch 275/300\n",
            "8/8 [==============================] - 0s 3ms/step - loss: 0.3670 - accuracy: 0.8512\n",
            "Epoch 276/300\n",
            "8/8 [==============================] - 0s 3ms/step - loss: 0.3679 - accuracy: 0.8430\n",
            "Epoch 277/300\n",
            "8/8 [==============================] - 0s 3ms/step - loss: 0.3711 - accuracy: 0.8430\n",
            "Epoch 278/300\n",
            "8/8 [==============================] - 0s 3ms/step - loss: 0.3647 - accuracy: 0.8347\n",
            "Epoch 279/300\n",
            "8/8 [==============================] - 0s 3ms/step - loss: 0.3651 - accuracy: 0.8430\n",
            "Epoch 280/300\n",
            "8/8 [==============================] - 0s 3ms/step - loss: 0.3628 - accuracy: 0.8512\n",
            "Epoch 281/300\n",
            "8/8 [==============================] - 0s 3ms/step - loss: 0.3688 - accuracy: 0.8430\n",
            "Epoch 282/300\n",
            "8/8 [==============================] - 0s 3ms/step - loss: 0.3635 - accuracy: 0.8471\n",
            "Epoch 283/300\n",
            "8/8 [==============================] - 0s 3ms/step - loss: 0.3628 - accuracy: 0.8512\n",
            "Epoch 284/300\n",
            "8/8 [==============================] - 0s 4ms/step - loss: 0.3612 - accuracy: 0.8554\n",
            "Epoch 285/300\n",
            "8/8 [==============================] - 0s 3ms/step - loss: 0.3672 - accuracy: 0.8430\n",
            "Epoch 286/300\n",
            "8/8 [==============================] - 0s 3ms/step - loss: 0.3624 - accuracy: 0.8554\n",
            "Epoch 287/300\n",
            "8/8 [==============================] - 0s 3ms/step - loss: 0.3635 - accuracy: 0.8471\n",
            "Epoch 288/300\n",
            "8/8 [==============================] - 0s 3ms/step - loss: 0.3627 - accuracy: 0.8430\n",
            "Epoch 289/300\n",
            "8/8 [==============================] - 0s 3ms/step - loss: 0.3699 - accuracy: 0.8430\n",
            "Epoch 290/300\n",
            "8/8 [==============================] - 0s 3ms/step - loss: 0.3630 - accuracy: 0.8471\n",
            "Epoch 291/300\n",
            "8/8 [==============================] - 0s 3ms/step - loss: 0.3684 - accuracy: 0.8388\n",
            "Epoch 292/300\n",
            "8/8 [==============================] - 0s 3ms/step - loss: 0.3624 - accuracy: 0.8430\n",
            "Epoch 293/300\n",
            "8/8 [==============================] - 0s 3ms/step - loss: 0.3617 - accuracy: 0.8471\n",
            "Epoch 294/300\n",
            "8/8 [==============================] - 0s 3ms/step - loss: 0.3617 - accuracy: 0.8388\n",
            "Epoch 295/300\n",
            "8/8 [==============================] - 0s 3ms/step - loss: 0.3651 - accuracy: 0.8512\n",
            "Epoch 296/300\n",
            "8/8 [==============================] - 0s 3ms/step - loss: 0.3633 - accuracy: 0.8554\n",
            "Epoch 297/300\n",
            "8/8 [==============================] - 0s 3ms/step - loss: 0.3691 - accuracy: 0.8306\n",
            "Epoch 298/300\n",
            "8/8 [==============================] - 0s 3ms/step - loss: 0.3636 - accuracy: 0.8347\n",
            "Epoch 299/300\n",
            "8/8 [==============================] - 0s 3ms/step - loss: 0.3583 - accuracy: 0.8512\n",
            "Epoch 300/300\n",
            "8/8 [==============================] - 0s 3ms/step - loss: 0.3616 - accuracy: 0.8471\n"
          ]
        },
        {
          "output_type": "execute_result",
          "data": {
            "text/plain": [
              "<keras.callbacks.History at 0x7f93a8208df0>"
            ]
          },
          "metadata": {},
          "execution_count": 72
        }
      ],
      "source": [
        "model.fit(X_train,Y_train,epochs=300)"
      ]
    },
    {
      "cell_type": "code",
      "execution_count": null,
      "metadata": {
        "_uuid": "c844af4f00d40c4cce4c4e5a9a01c9a892e9533d",
        "colab": {
          "base_uri": "https://localhost:8080/"
        },
        "id": "FXCqXlaylxwZ",
        "outputId": "ec94c43d-9f6c-4f27-a511-d23a53334cc7"
      },
      "outputs": [
        {
          "output_type": "stream",
          "name": "stdout",
          "text": [
            "2/2 [==============================] - 0s 5ms/step\n"
          ]
        }
      ],
      "source": [
        "Y_pred_nn = model.predict(X_test)"
      ]
    },
    {
      "cell_type": "code",
      "execution_count": null,
      "metadata": {
        "_uuid": "7e95c4946c0103225663862f43f31c41ed5aa2b1",
        "colab": {
          "base_uri": "https://localhost:8080/"
        },
        "id": "wMZISI_flxwZ",
        "outputId": "4fc450c7-e6e4-4aab-cb3d-676de5f2894e"
      },
      "outputs": [
        {
          "output_type": "execute_result",
          "data": {
            "text/plain": [
              "(61, 1)"
            ]
          },
          "metadata": {},
          "execution_count": 74
        }
      ],
      "source": [
        "Y_pred_nn.shape"
      ]
    },
    {
      "cell_type": "code",
      "execution_count": null,
      "metadata": {
        "_uuid": "66d9268e3f87b5a98066196eaa39363218a20015",
        "id": "3stCx55SlxwZ"
      },
      "outputs": [],
      "source": [
        "rounded = [round(x[0]) for x in Y_pred_nn]\n",
        "\n",
        "Y_pred_nn = rounded"
      ]
    },
    {
      "cell_type": "code",
      "execution_count": null,
      "metadata": {
        "_uuid": "888d79632c3191c2d11c1ec3da8dc750c9d95424",
        "colab": {
          "base_uri": "https://localhost:8080/"
        },
        "id": "tmr7ZjqelxwZ",
        "outputId": "1e96b9a6-60ba-470e-9f59-680858998d1e"
      },
      "outputs": [
        {
          "output_type": "stream",
          "name": "stdout",
          "text": [
            "The accuracy score achieved using Neural Network is: 83.61 %\n"
          ]
        }
      ],
      "source": [
        "score_nn = round(accuracy_score(Y_pred_nn,Y_test)*100,2)\n",
        "\n",
        "print(\"The accuracy score achieved using Neural Network is: \"+str(score_nn)+\" %\")\n",
        "\n",
        "#Note: Accuracy of 85% can be achieved on the test set, by setting epochs=2000, and number of nodes = 11. "
      ]
    },
    {
      "cell_type": "markdown",
      "metadata": {
        "_uuid": "c634cd922d716d350f6db0244772260cc598dec4",
        "id": "cn_sQFgAlxwa"
      },
      "source": [
        "## VI. Comparision of Results"
      ]
    },
    {
      "cell_type": "code",
      "execution_count": null,
      "metadata": {
        "_uuid": "101daa51242624c49bb8b3198d9d2c9f8f1c596e",
        "colab": {
          "base_uri": "https://localhost:8080/"
        },
        "id": "t7O58AB8lxwa",
        "outputId": "20d7316c-588a-4b6b-e6a6-4dc04cf04355"
      },
      "outputs": [
        {
          "output_type": "stream",
          "name": "stdout",
          "text": [
            "The accuracy score achieved using Logistic Regression is: 85.25 %\n",
            "The accuracy score achieved using Naive Bayes is: 85.25 %\n",
            "The accuracy score achieved using Support Vector Machine is: 81.97 %\n",
            "The accuracy score achieved using K-Nearest Neighbors is: 67.21 %\n",
            "The accuracy score achieved using Decision Tree is: 81.97 %\n",
            "The accuracy score achieved using Random Forest is: 90.16 %\n",
            "The accuracy score achieved using XGBoost is: 78.69 %\n",
            "The accuracy score achieved using Neural Network is: 83.61 %\n"
          ]
        }
      ],
      "source": [
        "scores = [score_lr,score_nb,score_svm,score_knn,score_dt,score_rf,score_xgb,score_nn]\n",
        "algorithms = [\"Logistic Regression\",\"Naive Bayes\",\"Support Vector Machine\",\"K-Nearest Neighbors\",\"Decision Tree\",\"Random Forest\",\"XGBoost\",\"Neural Network\"]    \n",
        "\n",
        "for i in range(len(algorithms)):\n",
        "    print(\"The accuracy score achieved using \"+algorithms[i]+\" is: \"+str(scores[i])+\" %\")"
      ]
    },
    {
      "cell_type": "markdown",
      "metadata": {
        "_uuid": "16759e71e0db7e5458cd37a19fbf7b21c24e7301",
        "id": "vfT6Gqyslxwb"
      },
      "source": []
    }
  ],
  "metadata": {
    "kernelspec": {
      "display_name": "Python 3",
      "language": "python",
      "name": "python3"
    },
    "language_info": {
      "codemirror_mode": {
        "name": "ipython",
        "version": 3
      },
      "file_extension": ".py",
      "mimetype": "text/x-python",
      "name": "python",
      "nbconvert_exporter": "python",
      "pygments_lexer": "ipython3",
      "version": "3.6.2"
    },
    "colab": {
      "provenance": []
    }
  },
  "nbformat": 4,
  "nbformat_minor": 0
}